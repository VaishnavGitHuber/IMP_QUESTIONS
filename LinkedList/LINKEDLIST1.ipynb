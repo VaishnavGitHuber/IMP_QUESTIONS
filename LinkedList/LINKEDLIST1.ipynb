{
 "cells": [
  {
   "cell_type": "markdown",
   "id": "5bb3e762-bd0d-4f65-8e80-df81c0167155",
   "metadata": {},
   "source": [
    "#### AUTHOR: VAISHNAV KRISHNA P\n",
    "##### TOPIC: LINKED LIST(EASY)\n",
    "##### WEEK2: 02/03/2025(MON-SUN)"
   ]
  },
  {
   "cell_type": "markdown",
   "id": "07986dfb-51f3-4af2-b148-e38135e36d7a",
   "metadata": {},
   "source": [
    "#### MERGE TWO SORTED LIST\n",
    "- https://leetcode.com/problems/merge-two-sorted-lists/description/?envType=problem-list-v2&envId=linked-list"
   ]
  },
  {
   "cell_type": "markdown",
   "id": "8e2f5b2b-589d-48e5-b9a6-35d18d1059b7",
   "metadata": {},
   "source": [
    "##### QUESTION 1\n",
    "- You are given the heads of two sorted linked lists list1 and list2.\n",
    "\n",
    "- Merge the two lists into one sorted list. The list should be made by splicing together the nodes of the first two lists.\n",
    "\n",
    "- Return the head of the merged linked list.\n",
    "\n",
    "![image of question](merge_ex1.jpg)"
   ]
  },
  {
   "cell_type": "markdown",
   "id": "e3addac8-bf24-442c-aef3-8663407efd43",
   "metadata": {},
   "source": [
    "##### Example 1:\n",
    "- Input: list1 = [1,2,4], list2 = [1,3,4]\n",
    "- Output: [1,1,2,3,4,4]\n",
    "##### Example 2:\n",
    "\n",
    "- Input: list1 = [], list2 = []\n",
    "- Output: []\n",
    "##### Example 3:\n",
    "\n",
    "- Input: list1 = [], list2 = [0]\n",
    "- Output: [0]\n"
   ]
  },
  {
   "cell_type": "code",
   "execution_count": 12,
   "id": "6a3c4709-dd41-4cd5-aa0c-13750d580ad6",
   "metadata": {},
   "outputs": [],
   "source": [
    "class ListNode(object):\n",
    "    def __init__(self, val=0, next=None):\n",
    "        self.val = val\n",
    "        self.next = next"
   ]
  },
  {
   "cell_type": "code",
   "execution_count": 20,
   "id": "2282d72a-3f72-443c-b436-6813deefc808",
   "metadata": {},
   "outputs": [],
   "source": [
    "# Function for merging \n",
    "'''\n",
    "Algorithm(using dummy node)\n",
    "step1 : create two pointer temp1, temp2 at the head of two linkedlist \n",
    "step2 : iterate the loop untill both temp1 and temp2 exist\n",
    "            if temp1.val < temp2.val:\n",
    "                store node at the temp change temp1 to next node\n",
    "            else if temp2.val < temp1.val:\n",
    "                store node at the temp change temp2 to next node \n",
    "step 3: at the end join the rest pice\n",
    "'''\n",
    "def merge_two_linkedlist(list1, list2):\n",
    "    temp1 = list1\n",
    "    temp2 = list2\n",
    "    dummy_node = ListNode(val=-1, next=None)\n",
    "    temp = dummy_node\n",
    "\n",
    "    while temp1 and temp2: # Time complexcity O(n+m) n-> size of list1, m-> size of list2\n",
    "        if temp1.val <= temp2.val:\n",
    "            temp.next = temp1\n",
    "            temp = temp1\n",
    "            temp1 = temp1.next\n",
    "        elif temp2.val < temp1.val:\n",
    "            temp.next = temp2\n",
    "            temp = temp2\n",
    "            temp2 = temp2.next\n",
    "\n",
    "        # if temp1 or temp2 is exhausted\n",
    "    if temp1:\n",
    "        temp.next = temp1\n",
    "    elif temp2:\n",
    "        temp.next = temp2\n",
    "        \n",
    "    return dummy_node.next"
   ]
  },
  {
   "cell_type": "markdown",
   "id": "f08feac9-5ba3-4233-a671-e29106a209c3",
   "metadata": {},
   "source": [
    "##### Note: \n",
    "- runtime 100% "
   ]
  },
  {
   "cell_type": "markdown",
   "id": "ceebdc1e-843e-41a3-bc75-d98ac715fd62",
   "metadata": {},
   "source": [
    "#### REMOVE DUPLICATES FROM THE SORTED LIST\n",
    "- https://leetcode.com/problems/remove-duplicates-from-sorted-list/description/?envType=problem-list-v2&envId=linked-list"
   ]
  },
  {
   "cell_type": "markdown",
   "id": "806d2fe3-5dc4-4989-b88b-cfc79d2125a8",
   "metadata": {
    "scrolled": true
   },
   "source": [
    "##### QUESTION 2\n",
    "- Given the head of a sorted linked list, delete all duplicates such that each element appears only once. Return the linked list sorted as well."
   ]
  },
  {
   "cell_type": "markdown",
   "id": "21a78fb9-49e1-4d54-8ba5-dc83e9a8a0b0",
   "metadata": {},
   "source": [
    "##### EXAMPLE 1\n",
    "![list2.jpg](list2.jpg)\n",
    " - Input: head = [1,1,2,3,3]\n",
    "- Output: [1,2,3]"
   ]
  },
  {
   "cell_type": "code",
   "execution_count": null,
   "id": "26d406da-496e-4db1-8f8c-b2e5033405c7",
   "metadata": {},
   "outputs": [],
   "source": [
    "'''\n",
    "step 1: Create a dummy node and assaign it to temp1, temp = head of LL\n",
    "step 2: if temp1.val != temp.val:\n",
    "            temp1.next = ListNode(val=temp.val)\n",
    "            temp = temp.next \n",
    "'''\n",
    "def remove_duplicates(head):\n",
    "    dummy_node = ListNode(val= 'dummy', next = None)\n",
    "    temp1 = dummy_node\n",
    "    temp = head\n",
    "\n",
    "    while temp:\n",
    "        if temp1.val != temp.val:\n",
    "            temp1.next = ListNode(val=temp.val)\n",
    "            temp1 = temp1.next\n",
    "        temp = temp.next \n",
    "        \n",
    "    return dummy_node.next"
   ]
  },
  {
   "cell_type": "markdown",
   "id": "ee969583-2916-4597-a267-8099cbc3dbc1",
   "metadata": {},
   "source": [
    "##### Note:\n",
    "- using extra space \n",
    "- accepted"
   ]
  },
  {
   "cell_type": "markdown",
   "id": "038f6829-612a-414f-ac32-6205ea2c6ebb",
   "metadata": {},
   "source": [
    "#### LINKED LIST CYCLE\n",
    "- https://leetcode.com/problems/linked-list-cycle/description/?envType=problem-list-v2&envId=linked-list"
   ]
  },
  {
   "cell_type": "markdown",
   "id": "827a52bb-ab2f-4d99-be3a-48b63f9708f3",
   "metadata": {},
   "source": [
    "##### QUESTION 3\n",
    "- Given head, the head of a linked list, determine if the linked list has a cycle in it.\n",
    "\n",
    "- There is a cycle in a linked list if there is some node in the list that can be reached again by continuously following the next pointer. Internally, pos is used to denote the index of the node that tail's next pointer is connected to. Note that pos is not passed as a parameter.\n",
    "\n",
    "- Return true if there is a cycle in the linked list. Otherwise, return false."
   ]
  },
  {
   "cell_type": "markdown",
   "id": "0b545d8c-c22f-40f1-b301-665fc4ae5645",
   "metadata": {},
   "source": [
    "##### EXAMPLE 1\n",
    "- Input: head = [3,2,0,-4], pos = 1\n",
    "- Output: true\n",
    "- Explanation: There is a cycle in the linked list, where the tail connects to the 1st node (0-indexed).\n",
    "![](circularlinkedlist.png)"
   ]
  },
  {
   "cell_type": "code",
   "execution_count": 3,
   "id": "905316bf-e5fc-4f0f-8434-92b882537dcf",
   "metadata": {},
   "outputs": [],
   "source": [
    "'''\n",
    "        ALGORITHM\n",
    "        PS: head of the linked list is given and we have to detect cycle in the linked list\n",
    "        SOL: Just traverse throught the elements, same time store the node reference(not value) in the hashmap(dictionary in python),\n",
    "        if the node reference is found repeatedly then return true.\n",
    "'''\n",
    "def linked_list_cycle(head, pos=1):\n",
    "    dictionary = dict()\n",
    "    temp = head\n",
    "\n",
    "    while temp:\n",
    "        if temp in dictionary:\n",
    "            return True\n",
    "        else:\n",
    "            dictionary[temp] = 1\n",
    "        temp = temp.next\n",
    "    return False"
   ]
  },
  {
   "cell_type": "markdown",
   "id": "da631c20-ec16-409b-9b00-5d7bd9fb6211",
   "metadata": {},
   "source": [
    "##### NOTE: **Accepted** but space complecity has to be reduced\n",
    "- Time complexcity: O(n) + 2 operation ie, searching and inserting in hashmap\n",
    "- space complexcity: hasmap space(has to be reduced)"
   ]
  },
  {
   "cell_type": "markdown",
   "id": "179d2795-9bb6-42f8-9476-9d5a1274920b",
   "metadata": {},
   "source": [
    "#### INTERSECTION OF TWO LINKED LIST\n",
    "- https://leetcode.com/problems/intersection-of-two-linked-lists/description/?envType=problem-list-v2&envId=linked-list"
   ]
  },
  {
   "cell_type": "markdown",
   "id": "c3bfb95c-feed-4ad2-af49-f59478c8365a",
   "metadata": {},
   "source": [
    "##### QUESTION 4\n",
    "- Given the heads of two singly linked-lists headA and headB, return the node at which the two lists intersect. If the two linked lists have no intersection at all, return null.\n",
    "\n",
    "- For example, the following two linked lists begin to intersect at node c1:"
   ]
  },
  {
   "cell_type": "markdown",
   "id": "83ad23df-d79d-4514-81c2-7c0124623ce7",
   "metadata": {},
   "source": [
    "![](160_statement.png)\n",
    "- The test cases are generated such that there are no cycles anywhere in the entire linked structure.\n",
    "\n",
    "- Note that the linked lists must retain their original structure after the function returns.\n",
    "\n",
    "- Custom Judge:\n",
    "\n",
    "- The inputs to the judge are given as follows (your program is not given these inputs):\n",
    "\n",
    "- intersectVal - The value of the node where the intersection occurs. This is 0 if there is no intersected node.\n",
    "- listA - The first linked list.\n",
    "- listB - The second linked list.\n",
    "- skipA - The number of nodes to skip ahead in listA (starting from the head) to get to the intersected node.\n",
    "- skipB - The number of nodes to skip ahead in listB (starting from the head) to get to the intersected node.\n",
    "- The judge will then create the linked structure based on these inputs and pass the two heads, headA and headB to your program. If you correctly return the intersected node, then your solution will be accepted."
   ]
  },
  {
   "cell_type": "code",
   "execution_count": 26,
   "id": "5a4f0101-658b-468b-ad10-18a5ece060e6",
   "metadata": {},
   "outputs": [],
   "source": [
    "# difficult to solve "
   ]
  },
  {
   "cell_type": "markdown",
   "id": "acaecdd8-e078-4f12-b96a-94561cca80b7",
   "metadata": {},
   "source": [
    "#### REMOVE LINKEDLIST ELEMENTs\n",
    "- https://leetcode.com/problems/remove-linked-list-elements/description/?envType=problem-list-v2&envId=linked-list"
   ]
  },
  {
   "cell_type": "markdown",
   "id": "4f71beac-9e93-4911-bfe2-e3945dfe25fe",
   "metadata": {},
   "source": [
    "##### QUESTION 5\n",
    "- Given the head of a linked list and an integer val, remove all the nodes of the linked list that has Node.val == val, and return the new head.\n",
    "\n"
   ]
  },
  {
   "cell_type": "markdown",
   "id": "aa12f9b1-e0c4-428e-ad7a-89def47c3dde",
   "metadata": {},
   "source": [
    "##### EXAMPLE 1\n",
    "![](removelinked-list.jpg)\n",
    "- Input: head = [1,2,6,3,4,5,6], val = 6\n",
    "- Output: [1,2,3,4,5]"
   ]
  },
  {
   "cell_type": "code",
   "execution_count": null,
   "id": "54350a71-2b8c-4963-8656-6201e8f892e4",
   "metadata": {},
   "outputs": [],
   "source": [
    "def remove_linkedlist(head, val):\n",
    "    dummy_node = ListNode(val='dummy')\n",
    "    temp1 = dummy_node\n",
    "    temp = head\n",
    "\n",
    "    while temp:\n",
    "        if temp.val != val:\n",
    "            temp1.next = ListNode(val=temp.val)\n",
    "            temp1 = temp1.next\n",
    "        temp = temp.next\n",
    "\n",
    "    return dummy_node.next"
   ]
  },
  {
   "cell_type": "markdown",
   "id": "6bb3b074-caef-43c8-b3f1-ff14380edb48",
   "metadata": {},
   "source": [
    "##### Note:\n",
    "- accepted but using an extra space\n",
    "- Solution is not optimal"
   ]
  }
 ],
 "metadata": {
  "kernelspec": {
   "display_name": "Python [conda env:base] *",
   "language": "python",
   "name": "conda-base-py"
  },
  "language_info": {
   "codemirror_mode": {
    "name": "ipython",
    "version": 3
   },
   "file_extension": ".py",
   "mimetype": "text/x-python",
   "name": "python",
   "nbconvert_exporter": "python",
   "pygments_lexer": "ipython3",
   "version": "3.12.7"
  }
 },
 "nbformat": 4,
 "nbformat_minor": 5
}
