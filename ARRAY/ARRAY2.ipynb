{
 "cells": [
  {
   "cell_type": "markdown",
   "id": "78ce8a67-daa4-42b9-bd81-33258700a2e4",
   "metadata": {},
   "source": [
    "### AUTHOR : VAISHNAV KRISHNA P\n",
    "#### TOPIC: ARRAY II\n",
    "#### WEEK2: 04/03/2025"
   ]
  },
  {
   "cell_type": "markdown",
   "id": "6fc51079-88f2-4dc9-9ac3-c35bb1d8e507",
   "metadata": {},
   "source": [
    "#### THIRD MAXIMUM NUMBER\n",
    "- https://leetcode.com/problems/third-maximum-number/description/?envType=problem-list-v2&envId=array"
   ]
  },
  {
   "cell_type": "markdown",
   "id": "d3438f78-30db-4000-b6e3-246bff7001ce",
   "metadata": {},
   "source": [
    "##### QUESTION 21\n",
    "- Given an integer array nums, return the third distinct maximum number in this array. If the third maximum does not exist, return the maximum number."
   ]
  },
  {
   "cell_type": "markdown",
   "id": "a88a6b74-46d6-470d-b86e-44c42a6ec116",
   "metadata": {},
   "source": [
    "##### Example 1:\n",
    "\n",
    "- Input: nums = [3,2,1]\n",
    "- Output: 1\n",
    "- Explanation:\n",
    "The first distinct maximum is 3.\n",
    "The second distinct maximum is 2.\n",
    "The third distinct maximum is 1.\n",
    "##### Example 2:\n",
    "\n",
    "- Input: nums = [1,2]\n",
    "- Output: 2\n",
    "- Explanation:\n",
    "The first distinct maximum is 2.\n",
    "The second distinct maximum is 1.\n",
    "The third distinct maximum does not exist, so the maximum (2) is returned instead."
   ]
  },
  {
   "cell_type": "code",
   "execution_count": 7,
   "id": "f84c6be4-1728-4b7b-91d3-9275a4dea85d",
   "metadata": {},
   "outputs": [
    {
     "data": {
      "text/plain": [
       "15"
      ]
     },
     "execution_count": 7,
     "metadata": {},
     "output_type": "execute_result"
    }
   ],
   "source": [
    "# task 1: get first highest number \n",
    "def first_largest(nums):\n",
    "    largest = nums[0]\n",
    "\n",
    "    for num in nums:\n",
    "        if num > largest:\n",
    "            largest = num\n",
    "    return largest\n",
    "first_largest([1,4,15,2,9])"
   ]
  },
  {
   "cell_type": "code",
   "execution_count": 17,
   "id": "09429a08-79c8-4bcb-a187-96c9499cb3d2",
   "metadata": {
    "scrolled": true
   },
   "outputs": [
    {
     "data": {
      "text/plain": [
       "17"
      ]
     },
     "execution_count": 17,
     "metadata": {},
     "output_type": "execute_result"
    }
   ],
   "source": [
    "# task 2: second largest element \n",
    "def second_largest(nums):\n",
    "    sec_large = float('-inf')\n",
    "    first_large = nums[0]\n",
    "\n",
    "    for idx in range(len(nums)):\n",
    "        if nums[idx] > first_large:\n",
    "            sec_large = first_large\n",
    "            first_large = nums[idx]\n",
    "        elif(nums[idx] < first_large and nums[idx] > sec_large):\n",
    "            sec_large = nums[idx]\n",
    "    return sec_large\n",
    "second_largest(nums=[2,13,17,132,0,9])    "
   ]
  },
  {
   "cell_type": "code",
   "execution_count": 45,
   "id": "5cadf848-b7ed-4d7e-8955-b7739715df9a",
   "metadata": {},
   "outputs": [],
   "source": [
    "# step 3: third largest element \n",
    "def third_largest(nums):\n",
    "    first_large = float('-inf')\n",
    "    sec_large = float('-inf')\n",
    "    third_large = float('-inf')\n",
    "\n",
    "    if len(nums) < 3:\n",
    "        return max(nums)\n",
    "\n",
    "    for idx in range(len(nums)):\n",
    "        if(nums[idx] > first_large):\n",
    "            third_large = sec_large\n",
    "            sec_large = first_large\n",
    "            first_large = nums[idx]\n",
    "        elif(nums[idx] < first_large and nums[idx] > sec_large):\n",
    "            third_large = sec_large\n",
    "            sec_large = nums[idx]\n",
    "        elif((nums[idx] < first_large) and (nums[idx] < sec_large) and (nums[idx] > third_large)):\n",
    "            third_large = nums[idx]\n",
    "            \n",
    "    return third_large if third_large != float('-inf') else first_large"
   ]
  },
  {
   "cell_type": "code",
   "execution_count": 47,
   "id": "48298852-9adb-4afd-9925-4d9bc757ff75",
   "metadata": {},
   "outputs": [
    {
     "data": {
      "text/plain": [
       "1"
      ]
     },
     "execution_count": 47,
     "metadata": {},
     "output_type": "execute_result"
    }
   ],
   "source": [
    "third_largest([3,2,1])"
   ]
  },
  {
   "cell_type": "markdown",
   "id": "f8e8b918-978b-4be6-9f86-b68646ed9587",
   "metadata": {},
   "source": [
    "#### FIND ALL NUMBERS DISAPPEAR IN ARRAY\n",
    "- https://leetcode.com/problems/find-all-numbers-disappeared-in-an-array/description/?envType=problem-list-v2&envId=array"
   ]
  },
  {
   "cell_type": "markdown",
   "id": "30982864-5d30-4999-8076-b0e50e3abea9",
   "metadata": {},
   "source": [
    "#### QUESTION 22\n",
    "- Given an array nums of n integers where nums[i] is in the range [1, n], return an array of all the integers in the range [1, n] that do not appear in nums."
   ]
  },
  {
   "cell_type": "markdown",
   "id": "c52446ea-bbe8-4144-a986-d8a39f2e656c",
   "metadata": {},
   "source": [
    "##### Example 1:\n",
    "\n",
    "- Input: nums = [4,3,2,7,8,2,3,1]\n",
    "- Output: [5,6]\n",
    "##### Example 2:\n",
    "\n",
    "- Input: nums = [1,1]\n",
    "- Output: [2]"
   ]
  },
  {
   "cell_type": "code",
   "execution_count": null,
   "id": "fdf2428c-c853-4615-8501-3dfbd83df642",
   "metadata": {},
   "outputs": [],
   "source": [
    "'''\n",
    "step1 : find range of numbers \n",
    "step2 : iterate through the elements and find the missing element in output list \n",
    "step3 : if all the elements in range are present, \n",
    "            return max + 1\n",
    "'''"
   ]
  },
  {
   "cell_type": "code",
   "execution_count": 124,
   "id": "9ad3a294-4455-4954-a27e-161e0c0dff22",
   "metadata": {},
   "outputs": [],
   "source": [
    "def find_numbers_disappear(nums):\n",
    "    output = []\n",
    "\n",
    "    for i in range(1,len(nums)+1):\n",
    "        if i not in nums:\n",
    "            output.append(i)\n",
    "    return output"
   ]
  },
  {
   "cell_type": "code",
   "execution_count": 126,
   "id": "0a99d840-9b21-4ecb-add0-6e28b4015ff2",
   "metadata": {},
   "outputs": [
    {
     "data": {
      "text/plain": [
       "[5, 6]"
      ]
     },
     "execution_count": 126,
     "metadata": {},
     "output_type": "execute_result"
    }
   ],
   "source": [
    "find_numbers_disappear(nums = [4,3,2,7,8,2,3,1])"
   ]
  },
  {
   "cell_type": "markdown",
   "id": "095e5ff9-8b76-45fe-bed4-b1c1b8b836ca",
   "metadata": {},
   "source": [
    "Note:\n",
    "- **Time limit exceed** Not accepted\n",
    "- not efficent"
   ]
  },
  {
   "cell_type": "code",
   "execution_count": 129,
   "id": "cc8fc0ae-e828-468d-965b-62a3e7712704",
   "metadata": {},
   "outputs": [],
   "source": [
    " # Efficent algorithm \n",
    "def find_disappear(nums):\n",
    "    # step 1: make corresponding index negtive to trace element which is visited \n",
    "    for i in range(len(nums)):\n",
    "        idx = abs(nums[i]) - 1\n",
    "        if nums[idx] > 0:\n",
    "            nums[idx] = nums[idx] * -1\n",
    "            \n",
    "    # step2: take element which are positive    \n",
    "    output = []\n",
    "    for idx in range(len(nums)):\n",
    "        if nums[idx] > 0:\n",
    "            output.append(idx+1)\n",
    "        \n",
    "    return output"
   ]
  },
  {
   "cell_type": "code",
   "execution_count": 131,
   "id": "ca7d4272-c6f4-4cab-bed0-db520085a63e",
   "metadata": {},
   "outputs": [
    {
     "data": {
      "text/plain": [
       "[5, 6]"
      ]
     },
     "execution_count": 131,
     "metadata": {},
     "output_type": "execute_result"
    }
   ],
   "source": [
    "find_disappear(nums = [4,3,2,7,8,2,3,1])"
   ]
  },
  {
   "cell_type": "markdown",
   "id": "7001be61-5967-4bfc-9db6-fe7782d5f022",
   "metadata": {},
   "source": [
    "Note: \n",
    "- **completed** has to be improved"
   ]
  },
  {
   "cell_type": "markdown",
   "id": "52da6aed-f6c1-4fb3-b989-0628bd61e581",
   "metadata": {},
   "source": [
    "##### ASSAIGN COOKIES\n",
    "- https://leetcode.com/problems/assign-cookies/description/?envType=problem-list-v2&envId=array"
   ]
  },
  {
   "cell_type": "markdown",
   "id": "6d88b8c9-902d-4e1b-8d9a-b0e969a8a320",
   "metadata": {},
   "source": [
    "##### QUESTION 23\n",
    "- Assume you are an awesome parent and want to give your children some cookies. But, you should give each child at most one cookie.\n",
    "\n",
    "- Each child i has a greed factor g[i], which is the minimum size of a cookie that the child will be content with; and each cookie j has a size s[j]. If s[j] >= g[i], we can assign the cookie j to the child i, and the child i will be content. Your goal is to maximize the number of your content children and output the maximum number."
   ]
  },
  {
   "cell_type": "markdown",
   "id": "5f92d740-6553-4059-adf2-b0b4ae9e015f",
   "metadata": {},
   "source": [
    " \n",
    "\n",
    "##### Example 1:\n",
    "\n",
    "- Input: g = [1,2,3], s = [1,1]\n",
    "- Output: 1\n",
    "- Explanation: You have 3 children and 2 cookies. The greed factors of 3 children are 1, 2, 3. \n",
    "And even though you have 2 cookies, since their size is both 1, you could only make the child whose greed factor is 1 content.\n",
    "You need to output 1.\n",
    "##### Example 2:\n",
    "\n",
    "- Input: g = [1,2], s = [1,2,3]\n",
    "- Output: 2\n",
    "- Explanation: You have 2 children and 3 cookies. The greed factors of 2 children are 1, 2. \n",
    "You have 3 cookies and their sizes are big enough to gratify all of the children, \n",
    "You need to output 2."
   ]
  },
  {
   "cell_type": "code",
   "execution_count": 6,
   "id": "92d7db05-2dda-447e-aa89-f1900c302e2e",
   "metadata": {},
   "outputs": [],
   "source": [
    "# do it later "
   ]
  },
  {
   "cell_type": "markdown",
   "id": "9b502ecb-c14c-4c98-97e3-d0ac12b09d09",
   "metadata": {},
   "source": [
    "#### ISLAND PERIMETER \n",
    "- https://leetcode.com/problems/island-perimeter/description/?envType=problem-list-v2&envId=array"
   ]
  },
  {
   "cell_type": "markdown",
   "id": "db3cedc8-f9a7-4c89-b591-ecd575de0057",
   "metadata": {},
   "source": [
    "#### QUESTION 24\n",
    "- You are given row x col grid representing a map where grid[i][j] = 1 represents land and grid[i][j] = 0 represents water.\n",
    "\n",
    "- Grid cells are connected horizontally/vertically (not diagonally). The grid is completely surrounded by water, and there is exactly one island (i.e., one or more connected land cells).\n",
    "\n",
    "- The island doesn't have \"lakes\", meaning the water inside isn't connected to the water around the island. One cell is a square with side length 1. The grid is rectangular, width and height don't exceed 100. Determine the perimeter of the island."
   ]
  },
  {
   "cell_type": "markdown",
   "id": "375f59c6-f4aa-4ae3-909b-e23e2ee67cf0",
   "metadata": {},
   "source": [
    "##### EXAMPLE01\n",
    "![](images/island.png)\n",
    "- Input: grid = [[0,1,0,0],[1,1,1,0],[0,1,0,0],[1,1,0,0]]\n",
    "- Output: 16\n",
    "- Explanation: The perimeter is the 16 yellow stripes in the image above.\n"
   ]
  },
  {
   "cell_type": "code",
   "execution_count": 19,
   "id": "71e39040-6dd0-4371-85c6-4fa92565b067",
   "metadata": {},
   "outputs": [],
   "source": [
    "def island_perimeter(grid):\n",
    "    # Exception case \n",
    "    if len(grid) == 0:\n",
    "        return 0\n",
    "        \n",
    "    perimeter = 0 \n",
    "    \n",
    "    for i in range(len(grid)):\n",
    "        for j in range(len(grid[0])):\n",
    "            if grid[i][j] == 1:\n",
    "                perimeter += 4\n",
    "                # if 1 at above \n",
    "                if i > 0 and grid[i-1][j] == 1:\n",
    "                    perimeter -= 2\n",
    "                # if 1 at left\n",
    "                if j > 0 and grid[i][j-1] == 1:\n",
    "                    perimeter -= 2\n",
    "    return perimeter"
   ]
  },
  {
   "cell_type": "code",
   "execution_count": 21,
   "id": "a5a5a61c-643e-4e54-97b4-31e9322d959e",
   "metadata": {},
   "outputs": [
    {
     "data": {
      "text/plain": [
       "16"
      ]
     },
     "execution_count": 21,
     "metadata": {},
     "output_type": "execute_result"
    }
   ],
   "source": [
    "island_perimeter( [[0,1,0,0],[1,1,1,0],[0,1,0,0],[1,1,0,0]])"
   ]
  },
  {
   "cell_type": "markdown",
   "id": "34a220b6-317e-47fa-b35b-a82268edf85c",
   "metadata": {},
   "source": [
    "##### Note \n",
    "- completed with good performance"
   ]
  },
  {
   "cell_type": "markdown",
   "id": "dcfc7f02-92be-4b66-a178-2f5bc98d9949",
   "metadata": {},
   "source": [
    "#### MAXIMUM CONSECUTIVE ONES\n",
    "- https://leetcode.com/problems/max-consecutive-ones/?envType=problem-list-v2&envId=array"
   ]
  },
  {
   "cell_type": "markdown",
   "id": "5c35ea2c-4844-4b43-a6e1-a69a7e7e7a1a",
   "metadata": {},
   "source": [
    "##### QUESTION 25\n",
    "- Given a binary array nums, return the maximum number of consecutive 1's in the array."
   ]
  },
  {
   "cell_type": "markdown",
   "id": "e24cdbc1-41dc-4b35-b440-28a5eda63172",
   "metadata": {},
   "source": [
    "##### Example 1:\n",
    "\n",
    "- Input: nums = [1,1,0,1,1,1]\n",
    "- Output: 3\n",
    "- Explanation: The first two digits or the last three digits are consecutive 1s. The maximum number of consecutive 1s is 3.\n",
    "##### Example 2:\n",
    "\n",
    "- Input: nums = [1,0,1,1,0,1]\n",
    "- Output: 2\n"
   ]
  },
  {
   "cell_type": "code",
   "execution_count": 27,
   "id": "10d6fc5f-f5a4-477c-a7bc-48439ae7fa56",
   "metadata": {},
   "outputs": [],
   "source": [
    "def maximum_consicutive_zeros(nums):\n",
    "    max_consicutive = 0\n",
    "    count = 0\n",
    "\n",
    "    for num in nums:\n",
    "        if num == 1:\n",
    "            count += 1\n",
    "            max_consicutive = max(max_consicutive, count)\n",
    "        else:\n",
    "            count = 0\n",
    "            \n",
    "    return max_consicutive"
   ]
  },
  {
   "cell_type": "code",
   "execution_count": 31,
   "id": "7cdcf0f1-0f49-4173-8155-6f37f342cb9e",
   "metadata": {},
   "outputs": [
    {
     "data": {
      "text/plain": [
       "3"
      ]
     },
     "execution_count": 31,
     "metadata": {},
     "output_type": "execute_result"
    }
   ],
   "source": [
    "maximum_consicutive_zeros([1,1,0,1,1,1])"
   ]
  },
  {
   "cell_type": "markdown",
   "id": "d5f89a86-7578-4e63-ae09-6b4694cbca0f",
   "metadata": {},
   "source": [
    "##### Note:\n",
    "- runtime has to be improved"
   ]
  },
  {
   "cell_type": "markdown",
   "id": "70fd988a-fa7d-4235-beff-1f1db854e66f",
   "metadata": {},
   "source": [
    "####  THEMO ATTACKING\n",
    "- https://leetcode.com/problems/teemo-attacking/description/?envType=problem-list-v2&envId=array"
   ]
  },
  {
   "cell_type": "markdown",
   "id": "a2c4800f-ce0d-418b-b102-73e87b3bd634",
   "metadata": {},
   "source": [
    "##### QUESTION 26\n",
    "- Our hero Teemo is attacking an enemy Ashe with poison attacks! When Teemo attacks Ashe, Ashe gets poisoned for a exactly duration seconds. More formally, an attack at second t will mean Ashe is poisoned during the inclusive time interval [t, t + duration - 1]. If Teemo attacks again before the poison effect ends, the timer for it is reset, and the poison effect will end duration seconds after the new attack.\n",
    "\n",
    "- You are given a non-decreasing integer array timeSeries, where timeSeries[i] denotes that Teemo attacks Ashe at second timeSeries[i], and an integer duration.\n",
    "\n",
    "- Return the total number of seconds that Ashe is poisoned.\n",
    "\n"
   ]
  },
  {
   "cell_type": "markdown",
   "id": "3c462ff1-e55a-4f15-9325-b1d9dc9dac2e",
   "metadata": {},
   "source": [
    "##### Example 1:\n",
    "\n",
    "- Input: timeSeries = [1,4], duration = 2\n",
    "- Output: 4\n",
    "- Explanation: Teemo's attacks on Ashe go as follows:\n",
    "At second 1, Teemo attacks, and Ashe is poisoned for seconds 1 and 2.\n",
    "At second 4, Teemo attacks, and Ashe is poisoned for seconds 4 and 5.\n",
    "Ashe is poisoned for seconds 1, 2, 4, and 5, which is 4 seconds in total.\n",
    "##### Example 2:\n",
    "\n",
    "- Input: timeSeries = [1,2], duration = 2\n",
    "- Output: 3\n",
    "- Explanation: Teemo's attacks on Ashe go as follows:\n",
    "At second 1, Teemo attacks, and Ashe is poisoned for seconds 1 and 2.\n",
    "At second 2 however, Teemo attacks again and resets the poison timer. Ashe is poisoned for seconds 2 and 3.\n",
    "Ashe is poisoned for seconds 1, 2, and 3, which is 3 seconds in total.\n",
    " "
   ]
  },
  {
   "cell_type": "code",
   "execution_count": 19,
   "id": "bb1ea967-da7b-4ce8-82ba-7a0dae9e9d49",
   "metadata": {},
   "outputs": [],
   "source": [
    "def themo_attack(timeSeries, duration):\n",
    "    sec_of_attack = set() \n",
    "\n",
    "    for time in timeSeries:\n",
    "        for sec in range(time, time+duration):\n",
    "            sec_of_attack.add(sec)\n",
    "\n",
    "    return len(sec_of_attack)"
   ]
  },
  {
   "cell_type": "code",
   "execution_count": 25,
   "id": "c8b3c0e0-3c8c-479b-818d-b7289143da4e",
   "metadata": {},
   "outputs": [
    {
     "data": {
      "text/plain": [
       "4"
      ]
     },
     "execution_count": 25,
     "metadata": {},
     "output_type": "execute_result"
    }
   ],
   "source": [
    "themo_attack(timeSeries = [1,4], duration = 2) # output: 4 "
   ]
  },
  {
   "cell_type": "markdown",
   "id": "54c0c0c9-844c-4710-84ed-d88fdc7fc280",
   "metadata": {},
   "source": [
    "Note: Not accepted due to the time limit exceeds for the large output "
   ]
  },
  {
   "cell_type": "code",
   "execution_count": 32,
   "id": "a974e128-22e2-4644-8df8-c364108c8c80",
   "metadata": {},
   "outputs": [],
   "source": [
    "def themo_attackII(timeSeries, duration):\n",
    "    pos_time = duration if len(timeSeries) > 0 else 0\n",
    "\n",
    "    for i in range(1, len(timeSeries)):\n",
    "        if (timeSeries[i] - timeSeries[i-1]) >= duration:\n",
    "            pos_time += duration\n",
    "        else:\n",
    "            pos_time += (timeSeries[i] - timeSeries[i-1])\n",
    "            \n",
    "    return pos_time"
   ]
  },
  {
   "cell_type": "code",
   "execution_count": 34,
   "id": "f833ae8c-8f5a-4918-b4f8-274d82b4f351",
   "metadata": {},
   "outputs": [
    {
     "data": {
      "text/plain": [
       "4"
      ]
     },
     "execution_count": 34,
     "metadata": {},
     "output_type": "execute_result"
    }
   ],
   "source": [
    "themo_attackII(timeSeries = [1,4], duration = 2)"
   ]
  },
  {
   "cell_type": "markdown",
   "id": "ea687e7f-30cc-42ca-9d9c-bec9cac620b9",
   "metadata": {},
   "source": [
    "Note: \n",
    "- completed"
   ]
  },
  {
   "cell_type": "markdown",
   "id": "09d41ce8-5d95-43ef-94e9-5f5a09c66e96",
   "metadata": {},
   "source": [
    "#### NEXT GREATER ELEMENT \n",
    "- https://leetcode.com/problems/next-greater-element-i/description/?envType=problem-list-v2&envId=array"
   ]
  },
  {
   "cell_type": "markdown",
   "id": "478dd05b-7e22-4a41-9091-1d0d3667efe7",
   "metadata": {},
   "source": [
    "##### QUESTION 27\n",
    "- The next greater element of some element x in an array is the first greater element that is to the right of x in the same array.\n",
    "\n",
    "- You are given two distinct 0-indexed integer arrays nums1 and nums2, where nums1 is a subset of nums2.\n",
    "\n",
    "- For each 0 <= i < nums1.length, find the index j such that nums1[i] == nums2[j] and determine the next greater element of nums2[j] in nums2. If there is no next greater element, then the answer for this query is -1.\n",
    "\n",
    "- Return an array ans of length nums1.length such that ans[i] is the next greater element as described above."
   ]
  },
  {
   "cell_type": "markdown",
   "id": "86f960cb-2b36-4261-a34d-ad0244b5761a",
   "metadata": {},
   "source": [
    "##### Example 1:\n",
    "\n",
    "- Input: nums1 = [4,1,2], nums2 = [1,3,4,2]\n",
    "- Output: [-1,3,-1]\n",
    "- Explanation: The next greater element for each value of nums1 is as follows:\n",
    "4 is underlined in nums2 = [1,3,4,2]. There is no next greater element, so the answer is -1.\n",
    "1 is underlined in nums2 = [1,3,4,2]. The next greater element is 3.\n",
    "2 is underlined in nums2 = [1,3,4,2]. There is no next greater element, so the answer is -1."
   ]
  },
  {
   "cell_type": "code",
   "execution_count": 103,
   "id": "df040540-f964-4d23-b669-37d2862f3c2e",
   "metadata": {},
   "outputs": [],
   "source": [
    "def next_greater_element(nums1, nums2):\n",
    "    output = []\n",
    "    \n",
    "    for i in range(len(nums1)):\n",
    "        is_reached = False\n",
    "        next_greater = -1 \n",
    "        for j in range(len(nums2)):\n",
    "            if nums1[i] == nums2[j]:\n",
    "                is_reached = True \n",
    "            if is_reached and nums2[j] > nums1[i]:\n",
    "                next_greater = nums2[j]\n",
    "                break\n",
    "        output.append(next_greater)\n",
    "                    \n",
    "    return output"
   ]
  },
  {
   "cell_type": "code",
   "execution_count": 105,
   "id": "061c4f0d-7d8b-46b7-82c2-183f57f5adc3",
   "metadata": {},
   "outputs": [
    {
     "data": {
      "text/plain": [
       "[-1, 3, -1]"
      ]
     },
     "execution_count": 105,
     "metadata": {},
     "output_type": "execute_result"
    }
   ],
   "source": [
    "next_greater_element(nums1 = [4,1,2], nums2 = [1,3,4,2])"
   ]
  },
  {
   "cell_type": "markdown",
   "id": "37b4a1fa-9900-48a4-9369-1e6e1fa6c3bc",
   "metadata": {},
   "source": [
    "##### Note:\n",
    "- Accepted but has to be improved time complexcity"
   ]
  },
  {
   "cell_type": "markdown",
   "id": "b6a615eb-3a2a-4fff-8952-b7bbbd26146d",
   "metadata": {},
   "source": [
    "#### KEYBOARD ROW\n",
    "- https://leetcode.com/problems/keyboard-row/description/?envType=problem-list-v2&envId=array"
   ]
  },
  {
   "cell_type": "markdown",
   "id": "cd50d98e-347b-4caf-88f6-7c3b232fc8e9",
   "metadata": {},
   "source": [
    "##### QUESTION 28\n",
    "- Given an array of strings words, return the words that can be typed using letters of the alphabet on only one row of American keyboard like the image below.\n",
    "\n",
    "- Note that the strings are case-insensitive, both lowercased and uppercased of the same letter are treated as if they are at the same row.\n",
    "\n",
    "- In the American keyboard:\n",
    "\n",
    "- the first row consists of the characters \"qwertyuiop\",\n",
    "- the second row consists of the characters \"asdfghjkl\", and\n",
    "- the third row consists of the characters \"zxcvbnm\".\n",
    "\n",
    "![](images/keyboard.png)"
   ]
  },
  {
   "cell_type": "markdown",
   "id": "6d24908b-d6b8-4531-964a-8a317c4074dd",
   "metadata": {},
   "source": [
    "##### Example 1:\n",
    "\n",
    "- Input: words = [\"Hello\",\"Alaska\",\"Dad\",\"Peace\"]\n",
    "\n",
    "- Output: [\"Alaska\",\"Dad\"]\n",
    "\n",
    "- Explanation:\n",
    "\n",
    "Both \"a\" and \"A\" are in the 2nd row of the American keyboard due to case insensitivity.\n",
    "\n",
    "##### Example 2:\n",
    "\n",
    "- Input: words = [\"omk\"]\n",
    "\n",
    "- Output: []"
   ]
  },
  {
   "cell_type": "code",
   "execution_count": 139,
   "id": "ce4fd1a6-69a4-4eaf-9a07-9d13dc2bb9c6",
   "metadata": {},
   "outputs": [],
   "source": [
    "# function: to check each row \n",
    "def is_present(word, keyboard_row):\n",
    "    for char in word:\n",
    "        if char not in keyboard_row:\n",
    "            return False \n",
    "    return True \n",
    "            \n",
    "def keyboard_row(words):\n",
    "    output = []\n",
    "    \n",
    "    for word in words:\n",
    "        if is_present(word.lower(), \"qwertyuiop\"):\n",
    "            output.append(word)\n",
    "            continue\n",
    "        if is_present(word.lower(), \"asdfghjkl\"):\n",
    "            output.append(word)\n",
    "            continue\n",
    "        if is_present(word.lower(), \"zxcvbnm\"):\n",
    "            output.append(word)\n",
    "            continue\n",
    "        \n",
    "    return output"
   ]
  },
  {
   "cell_type": "code",
   "execution_count": 141,
   "id": "2d87e3b9-ee8e-4223-b465-aa0703c64191",
   "metadata": {},
   "outputs": [
    {
     "data": {
      "text/plain": [
       "['Alaska', 'Dad']"
      ]
     },
     "execution_count": 141,
     "metadata": {},
     "output_type": "execute_result"
    }
   ],
   "source": [
    "keyboard_row([\"Hello\",\"Alaska\",\"Dad\",\"Peace\"])"
   ]
  },
  {
   "cell_type": "markdown",
   "id": "99b903af-0864-4801-8935-236b609d5ab1",
   "metadata": {},
   "source": [
    "##### Note:\n",
    "- completed"
   ]
  },
  {
   "cell_type": "markdown",
   "id": "2130078c-64d2-403d-aa09-9a8a5b9f3aa5",
   "metadata": {},
   "source": [
    "#### RELATIVE RANKS \n",
    "- https://leetcode.com/problems/relative-ranks/description/?envType=problem-list-v2&envId=array"
   ]
  },
  {
   "cell_type": "markdown",
   "id": "edaf3e0d-22d7-4eef-a277-47e9baf4c329",
   "metadata": {},
   "source": [
    "##### QUESTION 29\n",
    "- You are given an integer array score of size n, where score[i] is the score of the ith athlete in a competition. All the scores are guaranteed to be unique.\n",
    "\n",
    "- The athletes are placed based on their scores, where the 1st place athlete has the highest score, the 2nd place athlete has the 2nd highest score, and so on. The placement of each athlete determines their rank:\n",
    "\n",
    "- The 1st place athlete's rank is \"Gold Medal\".\n",
    "The 2nd place athlete's rank is \"Silver Medal\".\n",
    "The 3rd place athlete's rank is \"Bronze Medal\".\n",
    "For the 4th place to the nth place athlete, their rank is their placement number (i.e., the xth place athlete's rank is \"x\").\n",
    "Return an array answer of size n where answer[i] is the rank of the ith athlete."
   ]
  },
  {
   "cell_type": "markdown",
   "id": "ba58505a-dd06-42c1-9155-061dad31d827",
   "metadata": {},
   "source": [
    "##### Example 1:\n",
    "\n",
    "- Input: score = [5,4,3,2,1]\n",
    "- Output: [\"Gold Medal\",\"Silver Medal\",\"Bronze Medal\",\"4\",\"5\"]\n",
    "- Explanation: The placements are [1st, 2nd, 3rd, 4th, 5th].\n",
    "##### Example 2:\n",
    "\n",
    "- Input: score = [10,3,8,9,4]\n",
    "- Output: [\"Gold Medal\",\"5\",\"Bronze Medal\",\"Silver Medal\",\"4\"]\n",
    "- Explanation: The placements are [1st, 5th, 3rd, 2nd, 4th]."
   ]
  },
  {
   "cell_type": "code",
   "execution_count": 8,
   "id": "15fef5e6-7c1b-4c21-baed-d436c5f85245",
   "metadata": {},
   "outputs": [],
   "source": [
    "# function : relative ranks \n",
    "def determine_rank(scores, mark):\n",
    "    rank = 1\n",
    "    for score in scores:\n",
    "        if score > mark: # question quarentees no unique \n",
    "            rank += 1\n",
    "    return rank "
   ]
  },
  {
   "cell_type": "code",
   "execution_count": 50,
   "id": "b8908737-cbd3-485a-9789-31ff6b5a87e4",
   "metadata": {
    "jp-MarkdownHeadingCollapsed": true
   },
   "outputs": [],
   "source": [
    "# Function: for relative ranks \n",
    "def relative_ranks(score):\n",
    "    ranks = []\n",
    "\n",
    "    for s in score:\n",
    "        rank = determine_rank(score, s)\n",
    "        if rank == 1:\n",
    "            rank = \"Gold Medal\"\n",
    "        elif rank == 2:\n",
    "            rank = \"Bronze Medal\"\n",
    "        elif rank == 3:\n",
    "            rank = \"Silver Medal\"\n",
    "        ranks.append(str(rank))\n",
    "    return ranks"
   ]
  },
  {
   "cell_type": "code",
   "execution_count": 59,
   "id": "8725a5b7-7d7f-4562-880f-5eebac24be65",
   "metadata": {},
   "outputs": [
    {
     "data": {
      "text/plain": [
       "['Gold Medal', '5', 'Silver Medal', 'Bronze Medal', '4']"
      ]
     },
     "execution_count": 59,
     "metadata": {},
     "output_type": "execute_result"
    }
   ],
   "source": [
    "relative_ranks(score = [10,3,8,9,4])"
   ]
  },
  {
   "cell_type": "code",
   "execution_count": 22,
   "id": "c0d59e77-cbb0-4e5d-ac1c-949491c81fd5",
   "metadata": {},
   "outputs": [
    {
     "data": {
      "text/plain": [
       "4"
      ]
     },
     "execution_count": 22,
     "metadata": {},
     "output_type": "execute_result"
    }
   ],
   "source": []
  },
  {
   "cell_type": "code",
   "execution_count": null,
   "id": "a3cac8df-f98f-4939-bfa3-11a91dd4bfce",
   "metadata": {},
   "outputs": [],
   "source": []
  },
  {
   "cell_type": "markdown",
   "id": "6f22dd09-e09d-48ee-ba38-8fb6deff5dbc",
   "metadata": {},
   "source": [
    "##### Note:\n",
    "- memmory efficent but runtime is weak\n",
    "- Can be improved after learning sorting technique"
   ]
  },
  {
   "cell_type": "markdown",
   "id": "eb30dc77-f6e8-4229-b4b5-4b20598aea17",
   "metadata": {},
   "source": [
    "#### ARRAY PARTITION\n",
    "- https://leetcode.com/problems/array-partition/description/?envType=problem-list-v2&envId=array"
   ]
  },
  {
   "cell_type": "markdown",
   "id": "5980c40e-402c-4b1a-9e53-035f529912de",
   "metadata": {},
   "source": [
    "##### QUESTION 30\n",
    "- Given an integer array nums of 2n integers, group these integers into n pairs (a1, b1), (a2, b2), ..., (an, bn) such that the sum of min(ai, bi) for all i is maximized. Return the maximized sum."
   ]
  },
  {
   "cell_type": "markdown",
   "id": "b909e50b-7feb-44eb-9cd4-bf2e254beb17",
   "metadata": {},
   "source": [
    "##### Example 1:\n",
    "\n",
    "- Input: nums = [1,4,3,2]\n",
    "- Output: 4\n",
    "- Explanation: All possible pairings (ignoring the ordering of elements) are:\n",
    "1. (1, 4), (2, 3) -> min(1, 4) + min(2, 3) = 1 + 2 = 3\n",
    "2. (1, 3), (2, 4) -> min(1, 3) + min(2, 4) = 1 + 2 = 3\n",
    "3. (1, 2), (3, 4) -> min(1, 2) + min(3, 4) = 1 + 3 = 4\n",
    "So the maximum possible sum is 4."
   ]
  },
  {
   "cell_type": "code",
   "execution_count": 74,
   "id": "08c1f149-5bd0-4b17-ac3b-c3f3cb9c892e",
   "metadata": {},
   "outputs": [],
   "source": [
    "def array_partition(nums):\n",
    "    nums = sorted(nums)\n",
    "    output_sum = 0\n",
    "\n",
    "    for i in range(1,len(nums),2):\n",
    "        output_sum += min(nums[i-1], nums[i])\n",
    "    return output_sum"
   ]
  },
  {
   "cell_type": "code",
   "execution_count": 80,
   "id": "a7216f09-5486-489c-845c-01cef4446ca7",
   "metadata": {},
   "outputs": [
    {
     "data": {
      "text/plain": [
       "5"
      ]
     },
     "execution_count": 80,
     "metadata": {},
     "output_type": "execute_result"
    }
   ],
   "source": [
    "array_partition([2,4,1,9])"
   ]
  },
  {
   "cell_type": "markdown",
   "id": "b9de6c45-aa86-4e75-8ec9-bd9fd7311d0a",
   "metadata": {},
   "source": [
    "##### Note:\n",
    "- Have to be optimised after studying the sorting concept"
   ]
  },
  {
   "cell_type": "markdown",
   "id": "1e930eb4-e2df-4728-b2a9-1adac1d8acd6",
   "metadata": {},
   "source": [
    "#### RESHAPE THE MATRIX \n",
    "- https://leetcode.com/problems/reshape-the-matrix/description/?envType=problem-list-v2&envId=array"
   ]
  },
  {
   "cell_type": "markdown",
   "id": "f4663e7b-bb47-443e-9eaa-39c362df3606",
   "metadata": {},
   "source": [
    "##### QUESTION 31\n",
    "- In MATLAB, there is a handy function called reshape which can reshape an m x n matrix into a new one with a different size r x c keeping its original data.\n",
    "\n",
    "- You are given an m x n matrix mat and two integers r and c representing the number of rows and the number of columns of the wanted reshaped matrix.\n",
    "\n",
    "- The reshaped matrix should be filled with all the elements of the original matrix in the same row-traversing order as they were.\n",
    "\n",
    "- If the reshape operation with given parameters is possible and legal, output the new reshaped matrix; Otherwise, output the original matrix.\n",
    "\n"
   ]
  },
  {
   "cell_type": "markdown",
   "id": "045b1893-6cf8-454e-a32b-dc47af9a2683",
   "metadata": {},
   "source": [
    "##### EXAMPLE 01\n",
    "- Input: mat = [[1,2],[3,4]], r = 1, c = 4\n",
    "- Output: [[1,2,3,4]]"
   ]
  },
  {
   "cell_type": "code",
   "execution_count": 89,
   "id": "595de188-803c-4eb1-b386-df56b9db62be",
   "metadata": {},
   "outputs": [],
   "source": [
    "# function: to get the size of the array\n",
    "def get_size(mat):\n",
    "    if mat:\n",
    "        size = len(mat) * len(mat[0])\n",
    "    else:\n",
    "        size = 0\n",
    "    return size"
   ]
  },
  {
   "cell_type": "code",
   "execution_count": 101,
   "id": "ddad8319-d803-4ead-8a74-be393bd2c819",
   "metadata": {},
   "outputs": [],
   "source": [
    "# To check the validity of row and column \n",
    "def is_valid_size(mat, c, r):\n",
    "    size = get_size(mat)\n",
    "    \n",
    "    return size == c * r "
   ]
  },
  {
   "cell_type": "code",
   "execution_count": 114,
   "id": "bc312e76-5866-4e33-9c25-8f24940c6423",
   "metadata": {},
   "outputs": [],
   "source": [
    "# Function : to get all elements \n",
    "def get_elements(mat):\n",
    "    elements = []\n",
    "\n",
    "    for i in range(len(mat)):\n",
    "        for j in range(len(mat[0])):\n",
    "            elements.append(mat[i][j])\n",
    "            \n",
    "    return elements"
   ]
  },
  {
   "cell_type": "code",
   "execution_count": 152,
   "id": "c0cc6881-cba3-4b1f-9420-5af7aa5dc5cf",
   "metadata": {},
   "outputs": [],
   "source": [
    "def reshape_matrix(mat, r, c):\n",
    "    if mat and is_valid_size(mat, r, c):\n",
    "        elements = get_elements(mat)\n",
    "        ptr = 0\n",
    "        output = []\n",
    "\n",
    "        for i in range(r):\n",
    "            row = []\n",
    "            for j in range(c):\n",
    "                row.append(elements[ptr])\n",
    "                ptr += 1\n",
    "            output.append(row)\n",
    "        return output\n",
    "    else:\n",
    "        return mat"
   ]
  },
  {
   "cell_type": "code",
   "execution_count": 154,
   "id": "ec5f7fa3-0da6-434f-87b9-120ba740d780",
   "metadata": {},
   "outputs": [
    {
     "data": {
      "text/plain": [
       "[[1, 2], [3, 4]]"
      ]
     },
     "execution_count": 154,
     "metadata": {},
     "output_type": "execute_result"
    }
   ],
   "source": [
    "reshape_matrix(mat = [[1,2],[3,4]], r = 2, c = 4)"
   ]
  },
  {
   "cell_type": "markdown",
   "id": "4bf31cb9-afe3-4d46-b059-f439e2e8835b",
   "metadata": {},
   "source": [
    "##### Note:\n",
    "-  Completed but the complexcity has to be improved (memmory + space)"
   ]
  },
  {
   "cell_type": "markdown",
   "id": "2e67554d-7518-4295-9a2b-50e781babdcc",
   "metadata": {},
   "source": [
    "#### DISTRIBUTE CANDIES \n",
    "- https://leetcode.com/problems/distribute-candies/description/?envType=problem-list-v2&envId=array"
   ]
  },
  {
   "cell_type": "markdown",
   "id": "0bc2e887-da5f-4c67-b376-c41c55c1145f",
   "metadata": {},
   "source": [
    "##### QUESTION 32\n",
    "- Alice has n candies, where the ith candy is of type candyType[i]. Alice noticed that she started to gain weight, so she visited a doctor.\n",
    "\n",
    "- The doctor advised Alice to only eat n / 2 of the candies she has (n is always even). Alice likes her candies very much, and she wants to eat the maximum number of different types of candies while still following the doctor's advice.\n",
    "\n",
    "- Given the integer array candyType of length n, return the maximum number of different types of candies she can eat if she only eats n / 2 of them."
   ]
  },
  {
   "cell_type": "markdown",
   "id": "a5055bac-dbbb-4b4d-81c7-f9bcd73bbfd8",
   "metadata": {},
   "source": [
    "##### Example 1:\n",
    "\n",
    "- Input: candyType = [1,1,2,2,3,3]\n",
    "- Output: 3\n",
    "- Explanation: Alice can only eat 6 / 2 = 3 candies. Since there are only 3 types, she can eat one of each type.\n",
    "Example 2:\n",
    "\n",
    "- Input: candyType = [1,1,2,3]\n",
    "- Output: 2\n",
    "- Explanation: Alice can only eat 4 / 2 = 2 candies. Whether she eats types [1,2], [1,3], or [2,3], she still can only eat 2 different types."
   ]
  },
  {
   "cell_type": "code",
   "execution_count": 13,
   "id": "7d2d2ea2-6064-419e-a6ff-d6eb4540e524",
   "metadata": {},
   "outputs": [],
   "source": [
    "# function : to get the number of verieties \n",
    "def get_no_candies_type(candyType):\n",
    "    veriety = []\n",
    "\n",
    "    for i in range(len(candyType)):\n",
    "        if candyType[i] not in veriety:\n",
    "            veriety.append(candyType[i]) \n",
    "    return len(veriety)"
   ]
  },
  {
   "cell_type": "code",
   "execution_count": 15,
   "id": "b86fd612-d0fe-41b0-a079-4be46cc89ecb",
   "metadata": {},
   "outputs": [],
   "source": [
    "# function : distribute candies \n",
    "def distribute_candies(candyType):\n",
    "    n = len(candyType) // 2\n",
    "    no_veriety = get_no_candies_type(candyType)\n",
    "\n",
    "    if no_veriety <= n:\n",
    "        return no_veriety\n",
    "    else:\n",
    "        return n"
   ]
  },
  {
   "cell_type": "code",
   "execution_count": 17,
   "id": "5f01c79b-00aa-43a9-80f2-62b8cdcec824",
   "metadata": {},
   "outputs": [
    {
     "data": {
      "text/plain": [
       "3"
      ]
     },
     "execution_count": 17,
     "metadata": {},
     "output_type": "execute_result"
    }
   ],
   "source": [
    "get_no_candies_type([1,1,2,2,3,3])"
   ]
  },
  {
   "cell_type": "markdown",
   "id": "4df9374c-d0fa-4cb0-a838-cf3845575b7f",
   "metadata": {},
   "source": [
    "##### Note: \n",
    "- Time Limit exceeded Not accepted"
   ]
  },
  {
   "cell_type": "code",
   "execution_count": 7,
   "id": "29f75503-1153-4c72-801e-c0290975d7f5",
   "metadata": {},
   "outputs": [],
   "source": [
    "def distribute_candies(candyType):\n",
    "    n = len(candyType)//2\n",
    "    candyType = set(candyType) \n",
    "\n",
    "    return min(len(candyType), n)"
   ]
  },
  {
   "cell_type": "code",
   "execution_count": 9,
   "id": "2a308094-fa76-4bdb-b2f4-83d5dd200733",
   "metadata": {},
   "outputs": [
    {
     "data": {
      "text/plain": [
       "3"
      ]
     },
     "execution_count": 9,
     "metadata": {},
     "output_type": "execute_result"
    }
   ],
   "source": [
    "distribute_candies([1,-1,2,2,3,3])"
   ]
  },
  {
   "cell_type": "markdown",
   "id": "649909dd-a136-47e1-89e9-04aab7e8a583",
   "metadata": {},
   "source": [
    "##### Note: \n",
    "- accepted but have to be improved "
   ]
  }
 ],
 "metadata": {
  "kernelspec": {
   "display_name": "Python [conda env:base] *",
   "language": "python",
   "name": "conda-base-py"
  },
  "language_info": {
   "codemirror_mode": {
    "name": "ipython",
    "version": 3
   },
   "file_extension": ".py",
   "mimetype": "text/x-python",
   "name": "python",
   "nbconvert_exporter": "python",
   "pygments_lexer": "ipython3",
   "version": "3.12.7"
  }
 },
 "nbformat": 4,
 "nbformat_minor": 5
}
