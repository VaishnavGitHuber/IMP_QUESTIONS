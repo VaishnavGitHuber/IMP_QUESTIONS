{
 "cells": [
  {
   "cell_type": "markdown",
   "id": "88756de4-e2d7-4f83-9860-d712ef5cf845",
   "metadata": {},
   "source": [
    "#### AUTHOR: VAISHNAV KRISHNA P\n",
    "##### TOPIC : ARRAY(Questions): EASY\n",
    "##### WEEK01: 24-FEB-2025"
   ]
  },
  {
   "cell_type": "markdown",
   "id": "102c34a1-4fcf-4890-9293-8d01fbba2b3a",
   "metadata": {},
   "source": [
    "#### TWO SUM \n",
    "- https://leetcode.com/problems/two-sum/description/?envType=problem-list-v2&envId=array"
   ]
  },
  {
   "cell_type": "markdown",
   "id": "5931dabe-b5dc-414a-bf0c-61c39e37c7a2",
   "metadata": {},
   "source": [
    "##### QUESTION 1 \n",
    "- Given an array of integers nums and an integer target, return indices of the two numbers such that they add up to target.\n",
    "\n",
    "- You may assume that each input would have exactly one solution, and you may not use the same element twice.\n",
    "\n",
    "- You can return the answer in any order.\n",
    "\n",
    "##### Example 1\n",
    "\n",
    "- Input: nums = [2,7,11,15], target = 9\n",
    "- Output: [0,1]\n",
    "- Explanation: Because nums[0] + nums[1] == 9, we return [0, 1]."
   ]
  },
  {
   "cell_type": "code",
   "execution_count": 4,
   "id": "4cb2c7bc-711d-4a0c-afdb-71471e3714e6",
   "metadata": {},
   "outputs": [],
   "source": [
    "num_to_index = dict(); # dictionary based problem \n",
    "\n",
    "def two_sum(nums, target):\n",
    "    n = len(nums)\n",
    "    \n",
    "    for i in range(n):\n",
    "        # print(num_to_index)\n",
    "        if target - nums[i] in num_to_index:\n",
    "            return [i, num_to_index[target-nums[i]]]\n",
    "        else:\n",
    "            num_to_index[nums[i]] = i"
   ]
  },
  {
   "cell_type": "code",
   "execution_count": 5,
   "id": "75804148-7ad6-4ecc-bd43-f08aa6f109f7",
   "metadata": {},
   "outputs": [
    {
     "data": {
      "text/plain": [
       "[1, 0]"
      ]
     },
     "execution_count": 5,
     "metadata": {},
     "output_type": "execute_result"
    }
   ],
   "source": [
    "# Calling the method\n",
    "two_sum([2,7,11,15],target=9)"
   ]
  },
  {
   "cell_type": "markdown",
   "id": "ba35bd9d-3513-4102-8fe2-b7c5d0c04276",
   "metadata": {},
   "source": [
    "##### Note: \n",
    "- Topics: Hashmap/dictionary in python"
   ]
  },
  {
   "cell_type": "markdown",
   "id": "dea4477f-35c6-4a40-813f-9c95a0c71e01",
   "metadata": {},
   "source": [
    "#### REMOVE DUPLICATES FROM THE SORTED ARRAY\n",
    "- https://leetcode.com/problems/remove-duplicates-from-sorted-array/description/?envType=problem-list-v2&envId=array"
   ]
  },
  {
   "cell_type": "markdown",
   "id": "cb281f9b-e09e-44e5-a1f6-157e2dd20cde",
   "metadata": {},
   "source": [
    "##### QUESTION 2\n",
    "- Given an integer array nums sorted in non-decreasing order, remove the duplicates in-place such that each unique element appears only once. The relative order of the elements should be kept the same. Then return the number of unique elements in nums.\n",
    "\n",
    "- Consider the number of unique elements of nums to be k, to get accepted, you need to do the following things:\n",
    "\n",
    "- Change the array nums such that the first k elements of nums contain the unique elements in the order they were present in nums initially. The remaining elements of nums are not important as well as the size of nums.\n",
    "Return k.\n",
    "\n",
    "##### EXAMPLE\n",
    "- Input: nums = [1,1,2]\n",
    "- Output: 2, nums = [1,2,_]\n",
    "- Explanation: Your function should return k = 2, with the first two elements of nums being 1 and 2 respectively.\n",
    "It does not matter what you leave beyond the returned k (hence they are underscores)."
   ]
  },
  {
   "cell_type": "code",
   "execution_count": 8,
   "id": "a6a569b7-7d75-4b95-ab51-0dffa844823d",
   "metadata": {},
   "outputs": [],
   "source": [
    "def remove_duplicates(nums): # One pointer problem \n",
    "    k = 0\n",
    "\n",
    "    for i in range(1, len(nums)): # Time complexcity: O(n)\n",
    "        if nums[i] != nums[k]:\n",
    "            k += 1\n",
    "            nums[k] = nums[i]\n",
    "    print(nums[:k+1])\n",
    "    return k+1"
   ]
  },
  {
   "cell_type": "code",
   "execution_count": 9,
   "id": "c62faa0b-80a5-480c-8f87-d4601f2d7ddb",
   "metadata": {},
   "outputs": [
    {
     "name": "stdout",
     "output_type": "stream",
     "text": [
      "[1, 2, 3, 4, 5]\n"
     ]
    },
    {
     "data": {
      "text/plain": [
       "5"
      ]
     },
     "execution_count": 9,
     "metadata": {},
     "output_type": "execute_result"
    }
   ],
   "source": [
    "remove_duplicates([1,1,2,2,3,4,5]) "
   ]
  },
  {
   "cell_type": "markdown",
   "id": "a04a4ecf-9dff-4e05-b459-e09ca74744c9",
   "metadata": {},
   "source": [
    "#### REMOVE ELEMENT\n",
    "- https://leetcode.com/problems/remove-element/description/?envType=problem-list-v2&envId=array"
   ]
  },
  {
   "cell_type": "markdown",
   "id": "f5214beb-3fb0-482c-87ef-d7960af4fc69",
   "metadata": {},
   "source": [
    "##### QUESTION 3\n",
    "- Given an integer array nums and an integer val, remove all occurrences of val in **nums in-place**. The order of the elements may be changed. Then return the number of elements in nums which are not equal to val.\n",
    "\n",
    "- Consider the number of elements in nums which are not equal to val be k, to get accepted, you need to do the following things:\n",
    "\n",
    "- Change the array nums such that the first k elements of nums contain the elements which are not equal to val. The remaining elements of nums are not important as well as the size of nums.\n",
    "Return k.\n",
    "\n",
    "##### EXAMPLE\n",
    "- Input: nums = [3,2,2,3], val = 3\n",
    "- Output: 2, nums = [2,2,_,_]\n",
    "- Explanation: Your function should return k = 2, with the first two elements of nums being 2.\n",
    "It does not matter what you leave beyond the returned k (hence they are underscores)."
   ]
  },
  {
   "cell_type": "code",
   "execution_count": 16,
   "id": "da25f560-0568-4d36-8920-9605e1ac8a20",
   "metadata": {},
   "outputs": [],
   "source": [
    "def remove_duplicates(nums, val): # One pointer problem\n",
    "    k = -1 \n",
    "\n",
    "    for i in range(len(nums)): # Time complexcity: O(n)\n",
    "        if nums[i] != val:\n",
    "            k += 1\n",
    "            nums[k] = nums[i]\n",
    "    print(nums[:k+1])\n",
    "    return k+1"
   ]
  },
  {
   "cell_type": "code",
   "execution_count": 18,
   "id": "93abc02e-d09f-42c9-a9a5-0b5eb40869e6",
   "metadata": {},
   "outputs": [
    {
     "name": "stdout",
     "output_type": "stream",
     "text": [
      "[2, 2, 3, 4, 5]\n"
     ]
    },
    {
     "data": {
      "text/plain": [
       "5"
      ]
     },
     "execution_count": 18,
     "metadata": {},
     "output_type": "execute_result"
    }
   ],
   "source": [
    "remove_duplicates(nums = [1,1,2,2,3,4,5], val = 1)"
   ]
  },
  {
   "cell_type": "markdown",
   "id": "7c12201e-d662-4377-bfe6-24acad8f98fe",
   "metadata": {},
   "source": [
    "#### SEARCH INSERTION POSITION\n",
    "- https://leetcode.com/problems/search-insert-position/description/?envType=problem-list-v2&envId=array"
   ]
  },
  {
   "cell_type": "markdown",
   "id": "d67045cf-cf0f-400d-9ce1-e1367720d4dc",
   "metadata": {},
   "source": [
    "##### QUESTION 4\n",
    "- Given a sorted array of distinct integers and a target value, return the index if the target is found. If not, return the index where it would be if it were inserted in order.\n",
    "\n",
    "- You must write an algorithm with O(log n) runtime complexity.\n",
    "##### EXAMPLE\n",
    "\n",
    "- Input: nums = [1,3,5,6], target = 5\n",
    "- Output: 2\n"
   ]
  },
  {
   "cell_type": "code",
   "execution_count": 22,
   "id": "2eb1bf59-d412-4a70-b49d-cc5879a2729d",
   "metadata": {},
   "outputs": [],
   "source": [
    "def insertion_position(nums, target):\n",
    "    # if element is present \n",
    "    for i in range(len(nums)):\n",
    "        if nums[i] == target:\n",
    "            return i\n",
    "    # if element is not present \n",
    "    insert_position = -1 \n",
    "\n",
    "    for i in range(len(nums)):\n",
    "        if nums[i] < target:\n",
    "            insert_position = i\n",
    "    return insert_position + 1"
   ]
  },
  {
   "cell_type": "code",
   "execution_count": 24,
   "id": "5f24e348-96b2-4357-8811-759580e2d180",
   "metadata": {},
   "outputs": [
    {
     "data": {
      "text/plain": [
       "2"
      ]
     },
     "execution_count": 24,
     "metadata": {},
     "output_type": "execute_result"
    }
   ],
   "source": [
    "insertion_position(nums = [1,3,5,6],target = 4)"
   ]
  },
  {
   "cell_type": "markdown",
   "id": "3c878218-2af1-4bff-82c4-a73c26c00ab4",
   "metadata": {},
   "source": [
    "- Note: Time complexcity of this algorithm is O(n + n)"
   ]
  },
  {
   "cell_type": "markdown",
   "id": "e6adb99d-2f30-4513-a387-72c6fc4eef6e",
   "metadata": {},
   "source": [
    "#### PLUS ONE\n",
    "- https://leetcode.com/problems/plus-one/description/?envType=problem-list-v2&envId=array"
   ]
  },
  {
   "cell_type": "markdown",
   "id": "7328a349-7f6c-49cc-9f72-8801399056ac",
   "metadata": {},
   "source": [
    "##### QUESTION 5\n",
    "- You are given a large integer represented as an integer array digits, where each digits[i] is the ith digit of the integer. The digits are ordered from most significant to least significant in left-to-right order. The large integer does not contain any leading 0's.\n",
    "\n",
    "- Increment the large integer by one and return the resulting array of digits."
   ]
  },
  {
   "cell_type": "markdown",
   "id": "9b532335-cda4-40be-939e-1895cf525cfc",
   "metadata": {},
   "source": [
    "##### Example 1:\n",
    "\n",
    "- Input: digits = [1,2,3]\n",
    "- Output: [1,2,4]\n",
    "- Explanation: The array represents the integer 123.\n",
    "Incrementing by one gives 123 + 1 = 124.\n",
    "Thus, the result should be [1,2,4].\n",
    "##### Example 2:\n",
    "\n",
    "- Input: digits = [4,3,2,1]\n",
    "- Output: [4,3,2,2]\n",
    "- Explanation: The array represents the integer 4321.\n",
    "Incrementing by one gives 4321 + 1 = 4322.\n",
    "Thus, the result should be [4,3,2,2]."
   ]
  },
  {
   "cell_type": "code",
   "execution_count": 30,
   "id": "64f41d7b-b71e-4713-a92f-a9b6d696c87c",
   "metadata": {},
   "outputs": [],
   "source": [
    "'''\n",
    "step1: convert the array into string representation\n",
    "step2: convert the string into number \n",
    "step3: increment the number \n",
    "step4: convert the number to string \n",
    "step5: convert the string representation to array\n",
    "'''\n",
    "def plus_one(digits):\n",
    "    string_digits = '' \n",
    "    \n",
    "    for digit in digits:\n",
    "        string_digits += str(digit)\n",
    "    \n",
    "    string_digits = str(int(string_digits) + 1)\n",
    "    \n",
    "    return [int(digit) for digit in string_digits]"
   ]
  },
  {
   "cell_type": "code",
   "execution_count": 32,
   "id": "8bfdde62-a851-4b40-a7f9-f0416a75846c",
   "metadata": {},
   "outputs": [
    {
     "data": {
      "text/plain": [
       "[9, 9, 9, 0]"
      ]
     },
     "execution_count": 32,
     "metadata": {},
     "output_type": "execute_result"
    }
   ],
   "source": [
    "# Calling the method\n",
    "plus_one([9,9,8,9])"
   ]
  },
  {
   "cell_type": "markdown",
   "id": "8eaca313-b6d3-4228-9dca-c879832cbb41",
   "metadata": {},
   "source": [
    "#### MERGE THE SORTED ARRAY\n",
    "- https://leetcode.com/problems/merge-sorted-array/description/?envType=problem-list-v2&envId=array"
   ]
  },
  {
   "cell_type": "markdown",
   "id": "93647dcc-842c-4bec-bfb3-17a78bd4a22a",
   "metadata": {},
   "source": [
    "##### QUESTION 6\n",
    "- You are given two integer arrays nums1 and nums2, sorted in non-decreasing order, and two integers m and n, representing the number of elements in nums1 and nums2 respectively.\n",
    "\n",
    "- Merge nums1 and nums2 into a single array sorted in non-decreasing order.\n",
    "\n",
    "- The final sorted array should not be returned by the function, but instead be stored inside the array nums1. To accommodate this, nums1 has a length of m + n, where the first m elements denote the elements that should be merged, and the last n elements are set to 0 and should be ignored. nums2 has a length of n."
   ]
  },
  {
   "cell_type": "markdown",
   "id": "2464886e-1de4-4e6b-961d-311db33c4332",
   "metadata": {},
   "source": [
    "##### EXAMPLE 1\n",
    "\n",
    "- Input: nums1 = [1,2,3,0,0,0], m = 3, nums2 = [2,5,6], n = 3\n",
    "- Output: [1,2,2,3,5,6]\n",
    "- Explanation: The arrays we are merging are [1,2,3] and [2,5,6].\n",
    "The result of the merge is [1,2,2,3,5,6] with the underlined elements coming from nums1.\n",
    "\n",
    "##### EXAMPLE 2\n",
    "- Input: nums1 = [1], m = 1, nums2 = [], n = 0\n",
    "- Output: [1]\n",
    "- Explanation: The arrays we are merging are [1] and [].\n",
    "The result of the merge is [1]."
   ]
  },
  {
   "cell_type": "code",
   "execution_count": 63,
   "id": "5cefe622-e481-4b59-81b7-4accba1c583b",
   "metadata": {},
   "outputs": [],
   "source": [
    "'''\n",
    "step1: keep pointers are end of nums1(i), nums2(j), nums1+nums2(k)\n",
    "step2: each step replace element from the end of nums1+nums2 with the greatest element max(nums1[i], nums2[j])\n",
    "'''\n",
    "\n",
    "def merge_sorted_array(nums1,m,nums2,n):\n",
    "    k = m + n - 1 # pointing to last element at nums1+nums2\n",
    "    i = m - 1 # pointing to the last element of nums1\n",
    "    j = n - 1 # pointing to last element at nums2\n",
    "\n",
    "    while j >= 0:\n",
    "        if i >= 0 and nums1[i] > nums2[j]:\n",
    "            nums1[k] = nums1[i]\n",
    "            i -= 1\n",
    "            k -= 1\n",
    "        else:\n",
    "            nums1[k] = nums2[j]\n",
    "            j -= 1\n",
    "            k -= 1\n",
    "    return nums1"
   ]
  },
  {
   "cell_type": "code",
   "execution_count": 69,
   "id": "961ba10f-3c82-44b4-a080-957522d16b5c",
   "metadata": {},
   "outputs": [
    {
     "data": {
      "text/plain": [
       "[1]"
      ]
     },
     "execution_count": 69,
     "metadata": {},
     "output_type": "execute_result"
    }
   ],
   "source": [
    "merge_sorted_array(nums1 = [0], m = 0, nums2 = [1], n = 1)"
   ]
  },
  {
   "cell_type": "markdown",
   "id": "571817c9-3a6c-4506-bf8b-3309067d2249",
   "metadata": {},
   "source": [
    "#### CONVERT SORTED ARRAY INTO BINARY SEARCH TREE\n",
    "- https://leetcode.com/problems/convert-sorted-array-to-binary-search-tree/description/?envType=problem-list-v2&envId=array"
   ]
  },
  {
   "cell_type": "markdown",
   "id": "7f20643d-edd7-4e59-8771-fa749bf500db",
   "metadata": {},
   "source": [
    "##### QUESTION 7\n",
    "- Given an integer array nums where the elements are sorted in ascending order, convert it to a height-balanced binary search tree."
   ]
  },
  {
   "cell_type": "code",
   "execution_count": null,
   "id": "9ba5ce37-94e2-4629-8a81-4c38dcc0502d",
   "metadata": {},
   "outputs": [],
   "source": [
    "# Do it later on Array,Divide and Conquer,Tree,Binary Search Tree,Binary Tree"
   ]
  },
  {
   "cell_type": "markdown",
   "id": "827e4a29-478f-40b5-a477-a0dcfebd8aba",
   "metadata": {},
   "source": [
    "#### PASCAL'S TRIANGLE I\n",
    "- https://leetcode.com/problems/pascals-triangle/description/?envType=problem-list-v2&envId=array"
   ]
  },
  {
   "cell_type": "markdown",
   "id": "b791799c-8a04-42c6-9106-d4788b95ff40",
   "metadata": {},
   "source": [
    "##### QUESTION 8\n",
    "- Given an integer numRows, return the first numRows of Pascal's triangle.\n",
    "\n",
    "- In Pascal's triangle, each number is the sum of the two numbers directly above it as shown:"
   ]
  },
  {
   "cell_type": "markdown",
   "id": "5fed7ef5-5510-4d71-bc0e-8bf2c277965d",
   "metadata": {},
   "source": [
    "##### Example 1:\n",
    "\n",
    "- Input: numRows = 5\n",
    "- Output: [[1],[1,1],[1,2,1],[1,3,3,1],[1,4,6,4,1]]\n",
    "##### Example 2:\n",
    "\n",
    "- Input: numRows = 1\n",
    "- Output: [[1]]"
   ]
  },
  {
   "cell_type": "markdown",
   "id": "801c25ba-4123-4fe4-a032-d25553a82728",
   "metadata": {},
   "source": [
    "Note: \n",
    "- pascal's trangle is a trangular arrangement of numbers, that gives coefficent of binomial expansion.m"
   ]
  },
  {
   "cell_type": "code",
   "execution_count": 23,
   "id": "31651b49-1e86-41b0-b7c9-ba38ad57dafc",
   "metadata": {},
   "outputs": [],
   "source": [
    "# function for factorial\n",
    "def factorial(n):\n",
    "    fact = 1\n",
    "\n",
    "    for i in range(2, n+1):\n",
    "        fact *= i\n",
    "    return fact \n",
    "\n",
    "# function for finding the coeficent of binomial expansion\n",
    "def ncr(n,r):\n",
    "    # nCr = n! / r!(n-r)!\n",
    "    value = int(factorial(n) / ( factorial(r) * factorial(n-r) ))\n",
    "    return value"
   ]
  },
  {
   "cell_type": "code",
   "execution_count": 85,
   "id": "1c90b580-087d-46a3-b981-4fff29a305b6",
   "metadata": {},
   "outputs": [],
   "source": [
    "# pascals trangle \n",
    "'''\n",
    "     PASCALS TRANGLE\n",
    "           0C0\n",
    "         1C0 1C1\n",
    "        2C0 2C1 2C2\n",
    "    3C0  3C1  3C2  3C3\n",
    "    ...  ...  ...  ...\n",
    "\n",
    "'''\n",
    "def pascals_trangle(max_row):\n",
    "    pascals_tri = [[1]]\n",
    "    for n in range(1, max_row):\n",
    "        pascals_row = []\n",
    "        for j in range(0,n+1):\n",
    "            pascals_row.append( ncr(n, j) )\n",
    "        pascals_tri.append(pascals_row)\n",
    "    return pascals_tri"
   ]
  },
  {
   "cell_type": "code",
   "execution_count": 87,
   "id": "ba7c4430-6ede-4f49-bc62-b8b463283993",
   "metadata": {},
   "outputs": [
    {
     "data": {
      "text/plain": [
       "[[1], [1, 1], [1, 2, 1], [1, 3, 3, 1], [1, 4, 6, 4, 1]]"
      ]
     },
     "execution_count": 87,
     "metadata": {},
     "output_type": "execute_result"
    }
   ],
   "source": [
    "pascals_trangle(5)"
   ]
  },
  {
   "cell_type": "markdown",
   "id": "8623a010-746e-4fd2-bd90-0815d06d9c9a",
   "metadata": {},
   "source": [
    "Note:\n",
    "- Time complexcity is very worst "
   ]
  },
  {
   "cell_type": "markdown",
   "id": "d650bcd1-f6d6-4e6b-89bc-98c3f3494f32",
   "metadata": {},
   "source": [
    "#### PASCAL'S TRIANGLE II \n",
    "- https://leetcode.com/problems/pascals-triangle-ii/description/?envType=problem-list-v2&envId=array"
   ]
  },
  {
   "cell_type": "markdown",
   "id": "5cba3a66-af31-49b5-9b0f-9eb2e3072d91",
   "metadata": {},
   "source": [
    "##### QUESTION 9\n",
    "- Given an integer rowIndex, return the rowIndexth (0-indexed) row of the Pascal's triangle.\n",
    "\n",
    "- In Pascal's triangle, each number is the sum of the two numbers directly above it as shown:"
   ]
  },
  {
   "cell_type": "markdown",
   "id": "5f2bdd58-6c00-4fd7-853a-2f9b62a38bb4",
   "metadata": {},
   "source": [
    "##### Example 1:\n",
    "\n",
    "- Input: rowIndex = 3\n",
    "- Output: [1,3,3,1]\n",
    "##### Example 2:\n",
    "\n",
    "- Input: rowIndex = 0\n",
    "- Output: [1]\n",
    "##### Example 3:\n",
    "\n",
    "- Input: rowIndex = 1\n",
    "- Output: [1,1]"
   ]
  },
  {
   "cell_type": "code",
   "execution_count": 115,
   "id": "d7892e01-9d89-440b-8e92-c5538670d15f",
   "metadata": {},
   "outputs": [
    {
     "name": "stdout",
     "output_type": "stream",
     "text": [
      "Factorial of 6: 720\n",
      "4C1 value = 4\n"
     ]
    }
   ],
   "source": [
    "# import math module for factorial function \n",
    "import math\n",
    "# we make use of build in fuctions for calculating the factorial and ncr \n",
    "# ie, math.factorial(), math.comb(n, r)\n",
    "print(f\"Factorial of 6: {math.factorial(6)}\")\n",
    "print(f\"4C1 value = {math.comb(4,1)}\")"
   ]
  },
  {
   "cell_type": "code",
   "execution_count": 121,
   "id": "35355355-ff87-4070-a17d-858bee5cc602",
   "metadata": {},
   "outputs": [],
   "source": [
    "def pascals_trangleII(max_row):\n",
    "    pascals_series = []\n",
    "\n",
    "    for i in range(max_row+1):\n",
    "        pascals_series.append( math.comb(max_row, i) )\n",
    "    return pascals_series"
   ]
  },
  {
   "cell_type": "code",
   "execution_count": 140,
   "id": "4c18f899-518e-44b0-b23a-ec3cb2565ddc",
   "metadata": {},
   "outputs": [
    {
     "data": {
      "text/plain": [
       "[1, 5, 10, 10, 5, 1]"
      ]
     },
     "execution_count": 140,
     "metadata": {},
     "output_type": "execute_result"
    }
   ],
   "source": [
    "pascals_trangleII(5)"
   ]
  },
  {
   "cell_type": "markdown",
   "id": "bcf8c1a9-d37a-46a2-a825-d4382b560ef1",
   "metadata": {},
   "source": [
    "Note: \n",
    "- Good Time complexcity & space complexcity"
   ]
  },
  {
   "cell_type": "markdown",
   "id": "c644b6f5-1231-4d48-9e8b-c4daec6e92db",
   "metadata": {},
   "source": [
    "#### BEST TIME TO BUY AND SELL STOCK\n",
    "- https://leetcode.com/problems/best-time-to-buy-and-sell-stock/description/?envType=problem-list-v2&envId=array"
   ]
  },
  {
   "cell_type": "markdown",
   "id": "88f8d0bc-299e-46c4-8727-bdf5bac81f95",
   "metadata": {},
   "source": [
    "##### QUESTION 10\n",
    "- You are given an array prices where prices[i] is the price of a given stock on the ith day.\n",
    "\n",
    "- You want to maximize your profit by choosing a single day to buy one stock and choosing a different day in the future to sell that stock.\n",
    "\n",
    "- Return the maximum profit you can achieve from this transaction. If you cannot achieve any profit, return 0."
   ]
  },
  {
   "cell_type": "markdown",
   "id": "b3cc77a8-550d-406b-937f-f755d3831b14",
   "metadata": {},
   "source": [
    "##### Example 1:\n",
    "\n",
    "- Input: prices = [7,1,5,3,6,4]\n",
    "- Output: 5\n",
    "- Explanation: Buy on day 2 (price = 1) and sell on day 5 (price = 6), profit = 6-1 = 5.\n",
    "Note that buying on day 2 and selling on day 1 is not allowed because you must buy before you sell.\n",
    "##### Example 2:\n",
    "\n",
    "- Input: prices = [7,6,4,3,1]\n",
    "- Output: 0\n",
    "- Explanation: In this case, no transactions are done and the max profit = 0."
   ]
  },
  {
   "cell_type": "code",
   "execution_count": 61,
   "id": "feb3a602-3205-4992-a2f1-c010af0ddc31",
   "metadata": {},
   "outputs": [],
   "source": [
    "'''\n",
    "BEST TIME TO SELL\n",
    "\n",
    "7 1 5 3 6 4\n",
    "purchase Day 1: 7\n",
    "sell => 1 : profit => 0 \n",
    "sell => 5 : profit => 0 \n",
    "sell => 3 : profit => 0\n",
    "sell => 6 : profit => 0\n",
    "sell => 4 : profit => 0\n",
    "purchase Day 2: 1\n",
    "sell => 5 : profit => (5-1) = 4\n",
    "sell => 3 : profit => (3-1) = 2\n",
    ". . . . . . . . . . . . . . . . \n",
    ". . . . . . . . . . . . . . . . \n",
    "'''\n",
    "\n",
    "def best_time_to_sell(prices):\n",
    "    profit = 0\n",
    "    \n",
    "    for i in range(len(prices)):# O(n2)\n",
    "        for j in range(i+1, len(prices)):\n",
    "            if prices[j] - prices[i]:\n",
    "                profit = max(profit, prices[j] - prices[i])\n",
    "    return profit"
   ]
  },
  {
   "cell_type": "code",
   "execution_count": 65,
   "id": "cbf77395-5649-4046-a54e-c22f8f38a76b",
   "metadata": {},
   "outputs": [
    {
     "data": {
      "text/plain": [
       "0"
      ]
     },
     "execution_count": 65,
     "metadata": {},
     "output_type": "execute_result"
    }
   ],
   "source": [
    "best_time_to_sell([7,6,4,3,1])"
   ]
  },
  {
   "cell_type": "markdown",
   "id": "f1bb4f9e-e64b-4f03-9571-05b776d5d116",
   "metadata": {},
   "source": [
    "##### Note:\n",
    "- **Time exceeding limit** for large input\n",
    "- Not Accepted"
   ]
  },
  {
   "cell_type": "code",
   "execution_count": 12,
   "id": "15807ced-c610-428f-9f71-e912c4e85492",
   "metadata": {},
   "outputs": [],
   "source": [
    "'''\n",
    "when we are selling on ith day, we have to puchase at miniprice from 1 to i-1th day\n",
    "\n",
    "step1 : initialize with profit = 0 and mini_price = prices[0]\n",
    "step2: each iteration, update maximum profit, minium_price\n",
    "'''\n",
    "def best_time_sell(prices):\n",
    "    mini_price = prices[0]\n",
    "    max_profit = 0 \n",
    "\n",
    "    for i in range(1, len(prices)): # O(n)\n",
    "        max_profit = max(max_profit, prices[i] - mini_price)\n",
    "        mini_price = min(mini_price, prices[i])\n",
    "    return max_profit"
   ]
  },
  {
   "cell_type": "code",
   "execution_count": 5,
   "id": "b49c437c-5772-4f85-abf2-ea68b56356a4",
   "metadata": {},
   "outputs": [
    {
     "data": {
      "text/plain": [
       "5"
      ]
     },
     "execution_count": 5,
     "metadata": {},
     "output_type": "execute_result"
    }
   ],
   "source": [
    "best_time_sell([7,1,5,3,6,4])"
   ]
  },
  {
   "cell_type": "markdown",
   "id": "c47cfaef-4d47-4f03-a35d-bd83ba0fe49c",
   "metadata": {},
   "source": [
    "##### Note\n",
    "**Still has to be imporved complexcity**"
   ]
  },
  {
   "cell_type": "markdown",
   "id": "393aed28-caeb-4ee1-9d60-1087e8950321",
   "metadata": {},
   "source": [
    "#### SINGLE NUMBER\n",
    "- https://leetcode.com/problems/single-number/description/?envType=problem-list-v2&envId=array"
   ]
  },
  {
   "cell_type": "markdown",
   "id": "7d00e466-fac3-4f60-9d46-8c69351a44ed",
   "metadata": {},
   "source": [
    "##### QUESTION 11\n",
    "- Given a non-empty array of integers nums, every element appears twice except for one. Find that single one.\n",
    "\n",
    "- You must implement a solution with a linear runtime complexity and use only constant extra space."
   ]
  },
  {
   "cell_type": "markdown",
   "id": "233544b8-6976-46f5-b5eb-d9e69f5da689",
   "metadata": {},
   "source": [
    "##### Example 1:\n",
    "\n",
    "- Input: nums = [2,2,1]\n",
    "\n",
    "- Output: 1\n",
    "\n",
    "##### Example 2:\n",
    "\n",
    "- Input: nums = [4,1,2,1,2]\n",
    "\n",
    "- Output: 4\n",
    "\n",
    "##### Example 3:\n",
    "\n",
    "- Input: nums = [1]\n",
    "\n",
    "- Output: 1"
   ]
  },
  {
   "cell_type": "code",
   "execution_count": 27,
   "id": "ab777c2f-ab43-465e-b6a5-2ebea3bd7183",
   "metadata": {},
   "outputs": [],
   "source": [
    "'''\n",
    "step: iterate through each unique values,\n",
    "            if any element appear 1 times return that element \n",
    "'''\n",
    "# to get unique element in array\n",
    "def unique_elements(nums):\n",
    "    unique_elements = []\n",
    "\n",
    "    for num in nums:\n",
    "        if num not in unique_elements:\n",
    "            unique_elements.append(num)\n",
    "    return unique_elements\n",
    "\n",
    "# to count the number of specific element\n",
    "def count_appearence(nums, val):\n",
    "    count = 0 \n",
    "\n",
    "    for num in nums:\n",
    "        if num == val:\n",
    "            count += 1\n",
    "    return count \n",
    "    \n",
    "def single_number(nums):\n",
    "    \n",
    "    for num in unique_elements(nums):\n",
    "        if count_appearence(nums, num) == 1:\n",
    "            return num\n",
    "    return -1"
   ]
  },
  {
   "cell_type": "code",
   "execution_count": 36,
   "id": "970824d3-86db-4919-8b1a-2ccfe278c394",
   "metadata": {},
   "outputs": [
    {
     "data": {
      "text/plain": [
       "4"
      ]
     },
     "execution_count": 36,
     "metadata": {},
     "output_type": "execute_result"
    }
   ],
   "source": [
    "single_number(nums = [4,1,2,1,2])"
   ]
  },
  {
   "cell_type": "markdown",
   "id": "4e747541-9d09-404d-8b2f-f3741e913d3d",
   "metadata": {},
   "source": [
    "##### Note: \n",
    "- Not given good amount of time and space complexcity"
   ]
  },
  {
   "cell_type": "markdown",
   "id": "ff87e60b-da18-4359-875d-7f733047bf21",
   "metadata": {},
   "source": [
    "#### MAJORITY ELEMENT\n",
    "- https://leetcode.com/problems/majority-element/description/?envType=problem-list-v2&envId=array"
   ]
  },
  {
   "cell_type": "markdown",
   "id": "50cf5752-6aa0-4061-874f-5e744a9db754",
   "metadata": {},
   "source": [
    "##### QUESTION 12\n",
    "- Given an array nums of size n, return the majority element.\n",
    "\n",
    "- The majority element is the element that appears more than ⌊n / 2⌋ times. You may assume that the majority element always exists in the array."
   ]
  },
  {
   "cell_type": "markdown",
   "id": "d713bcc2-0072-4f9c-949b-0b147c24d9ec",
   "metadata": {},
   "source": [
    "##### Example 1:\n",
    "\n",
    "- Input: nums = [3,2,3]\n",
    "- Output: 3\n",
    "##### Example 2:\n",
    "\n",
    "- Input: nums = [2,2,1,1,1,2,2]\n",
    "- Output: 2"
   ]
  },
  {
   "cell_type": "code",
   "execution_count": 45,
   "id": "6fbb1ba8-693e-4e5b-a861-eb4b8b6aab48",
   "metadata": {},
   "outputs": [],
   "source": [
    "'''\n",
    "iterating through each element\n",
    "    if any element appear more than n/2 times \n",
    "        return element\n",
    "'''\n",
    "def majority_element(nums):\n",
    "    n = len(nums)\n",
    "    \n",
    "    for num in nums: # O(n2) TimeComplexcity\n",
    "        if nums.count(num) > int(n/2):\n",
    "            return num\n",
    "    return -1"
   ]
  },
  {
   "cell_type": "code",
   "execution_count": 49,
   "id": "e01a36cd-3a65-4e5f-a11c-c4eeabe4a3c0",
   "metadata": {},
   "outputs": [
    {
     "data": {
      "text/plain": [
       "3"
      ]
     },
     "execution_count": 49,
     "metadata": {},
     "output_type": "execute_result"
    }
   ],
   "source": [
    "majority_element(nums = [3,2,3])"
   ]
  },
  {
   "cell_type": "markdown",
   "id": "4348cab1-eab7-4f73-8c70-bbe360ac33d3",
   "metadata": {},
   "source": [
    "Note:\n",
    "- Not acceptable due to **exceeding timelimit** for large input"
   ]
  },
  {
   "cell_type": "code",
   "execution_count": 42,
   "id": "68aba6ed-d91f-423a-9238-a3971fea9e8c",
   "metadata": {},
   "outputs": [],
   "source": [
    "# Most optimized algorithm, ie, Moore's majority votting algrithm \n",
    "'''\n",
    "Moore's votting algorithm is the most optimized algorithm for solving this problem\n",
    "'''\n",
    "def majority_element(nums):\n",
    "    major_element = nums[0]\n",
    "    count = 1\n",
    "\n",
    "    for i in range(1,len(nums)):\n",
    "        if count == 0:\n",
    "            major_element = nums[i]\n",
    "            \n",
    "        if nums[i] == major_element:\n",
    "            count += 1\n",
    "        else:\n",
    "            count -= 1\n",
    "    return major_element"
   ]
  },
  {
   "cell_type": "code",
   "execution_count": 48,
   "id": "b5e657c6-999a-4597-bcd2-166a2b55f7db",
   "metadata": {},
   "outputs": [
    {
     "data": {
      "text/plain": [
       "3"
      ]
     },
     "execution_count": 48,
     "metadata": {},
     "output_type": "execute_result"
    }
   ],
   "source": [
    "majority_element(nums = [3,2,3])"
   ]
  },
  {
   "cell_type": "markdown",
   "id": "87dd7a24-6be3-4539-a3f1-ce1c12989665",
   "metadata": {},
   "source": [
    "##### Note\n",
    "- completed"
   ]
  },
  {
   "cell_type": "markdown",
   "id": "d952476d-3201-48d5-908a-8ea6a594e3c7",
   "metadata": {},
   "source": [
    "#### CONTAINS DUPLICATE\n",
    "- https://leetcode.com/problems/contains-duplicate/description/?envType=problem-list-v2&envId=array"
   ]
  },
  {
   "cell_type": "markdown",
   "id": "ec4fea8b-8fb7-402d-98c2-4b2099c6d34e",
   "metadata": {},
   "source": [
    "##### QUESTION 13\n",
    "- Given an integer array nums, return true if any value appears at least twice in the array, and return false if every element is distinct."
   ]
  },
  {
   "cell_type": "markdown",
   "id": "50337dc5-85a1-4f4a-a8f6-459fec569329",
   "metadata": {},
   "source": [
    "##### Example 1:\n",
    "\n",
    "- Input: nums = [1,2,3,1]\n",
    "\n",
    "- Output: true\n",
    "\n",
    "- Explanation:\n",
    "\n",
    "The element 1 occurs at the indices 0 and 3.\n",
    "\n",
    "##### Example 2:\n",
    "\n",
    "- Input: nums = [1,2,3,4]\n",
    "\n",
    "- Output: false\n",
    "\n",
    "- Explanation:\n",
    "\n",
    "All elements are distinct.\n",
    "\n",
    "##### Example 3:\n",
    "\n",
    "- Input: nums = [1,1,1,3,3,4,3,2,4,2]\n",
    "\n",
    "- Output: true"
   ]
  },
  {
   "cell_type": "code",
   "execution_count": 23,
   "id": "17561074-1b81-4d8c-8357-a1ef104785d5",
   "metadata": {},
   "outputs": [],
   "source": [
    "'''\n",
    "step 1: create a new list to track the unique elements\n",
    "step 2: iterate through nums,\n",
    "            if any element already present in unique list \n",
    "                    return true \n",
    "        return false \n",
    "'''\n",
    "def contains_duplicates(nums):\n",
    "    unique_elements = [] # O(n) space complexcity\n",
    "    \n",
    "    for num in nums:# O(n) time complexcity\n",
    "        if num in unique_elements: \n",
    "            return True\n",
    "        else:\n",
    "            unique_elements.append(num)\n",
    "    return False "
   ]
  },
  {
   "cell_type": "code",
   "execution_count": 27,
   "id": "5fcc051d-b75a-4301-a497-f6c99fee4d70",
   "metadata": {},
   "outputs": [
    {
     "data": {
      "text/plain": [
       "False"
      ]
     },
     "execution_count": 27,
     "metadata": {},
     "output_type": "execute_result"
    }
   ],
   "source": [
    "contains_duplicates(nums = [1,2,3,4])"
   ]
  },
  {
   "cell_type": "markdown",
   "id": "636fe9d6-889b-4a49-9f13-b9359cd35e2e",
   "metadata": {},
   "source": [
    "Note:\n",
    "- **Time Limit Exceeds** for large inputs"
   ]
  },
  {
   "cell_type": "code",
   "execution_count": 60,
   "id": "cc072842-a2ce-4877-8e93-700b648cc586",
   "metadata": {},
   "outputs": [],
   "source": [
    "# in previous we are using a extra space for storing \n",
    "def conatins_duplicate(nums):\n",
    "    for i in range(len(nums)): # Time complexcity: O(n2) , space complexcity:O(1)\n",
    "        for j in range(len(nums)):\n",
    "            if nums[i] == nums[j] and j != i:\n",
    "                return True\n",
    "    return False "
   ]
  },
  {
   "cell_type": "code",
   "execution_count": 68,
   "id": "f8dcbbf5-7b2c-4ad4-a9be-05a55600b058",
   "metadata": {},
   "outputs": [
    {
     "data": {
      "text/plain": [
       "True"
      ]
     },
     "execution_count": 68,
     "metadata": {},
     "output_type": "execute_result"
    }
   ],
   "source": [
    "conatins_duplicate(nums = [1,2,3,1])"
   ]
  },
  {
   "cell_type": "markdown",
   "id": "ee271dd5-c0cd-4aff-9a74-808c4fc80063",
   "metadata": {},
   "source": [
    "Note\n",
    "- **Time complexcity exceeds** so, not accepted"
   ]
  },
  {
   "cell_type": "code",
   "execution_count": 76,
   "id": "6378e94f-9c9c-4b62-bb70-1fc8c9d797dd",
   "metadata": {},
   "outputs": [],
   "source": [
    "# Using hash map \n",
    "def contains_duplicates(nums):\n",
    "    hash_set = set()\n",
    "    \n",
    "    for num in nums: # O(n) Time Complexcity & O(n) Space Complexcity\n",
    "        if num in hash_set:\n",
    "            return True\n",
    "        else:\n",
    "            hash_set.add(num)\n",
    "    return False"
   ]
  },
  {
   "cell_type": "code",
   "execution_count": 88,
   "id": "c2179e80-4c47-4078-b700-d774d59cf891",
   "metadata": {},
   "outputs": [
    {
     "data": {
      "text/plain": [
       "False"
      ]
     },
     "execution_count": 88,
     "metadata": {},
     "output_type": "execute_result"
    }
   ],
   "source": [
    "contains_duplicates(nums = [1,2,3,5,6])"
   ]
  },
  {
   "cell_type": "markdown",
   "id": "e7cb844c-728a-4d8c-b95c-3e9e4953d999",
   "metadata": {},
   "source": [
    "Note\n",
    "- completed"
   ]
  },
  {
   "cell_type": "markdown",
   "id": "da05d6dd-c0a3-49ef-ade9-60e83638d67f",
   "metadata": {},
   "source": [
    "#### CONTAINS DUPLICATE II\n",
    "- https://leetcode.com/problems/contains-duplicate-ii/description/?envType=problem-list-v2&envId=array"
   ]
  },
  {
   "cell_type": "markdown",
   "id": "813eaa68-7c67-4540-a850-aaa9ac0c43ee",
   "metadata": {},
   "source": [
    "##### QUESTION 14\n",
    "- Given an integer array nums and an integer k, return true if there are two distinct indices i and j in the array such that nums[i] == nums[j] and abs(i - j) <= k."
   ]
  },
  {
   "cell_type": "markdown",
   "id": "420caa19-0bf6-4196-bc70-72ad0b3113e7",
   "metadata": {},
   "source": [
    "##### Example 1:\n",
    "\n",
    "- Input: nums = [1,2,3,1], k = 3\n",
    "- Output: true\n",
    "##### Example 2:\n",
    "\n",
    "- Input: nums = [1,0,1,1], k = 1\n",
    "- Output: true\n",
    "##### Example 3:\n",
    "\n",
    "- Input: nums = [1,2,3,1,2,3], k = 2\n",
    "- Output: false"
   ]
  },
  {
   "cell_type": "code",
   "execution_count": 1,
   "id": "7efea9ca-9f85-404d-859e-db1b09602fd4",
   "metadata": {},
   "outputs": [],
   "source": [
    "def contains_duplicatesII(nums, k):\n",
    "\n",
    "    for i in range(len(nums)):\n",
    "        for j in range(i+1, len(nums)):\n",
    "            if nums[i] == nums[j] and abs(i - j) <= k:\n",
    "                return True\n",
    "    return False  "
   ]
  },
  {
   "cell_type": "code",
   "execution_count": 3,
   "id": "0fc5dda8-9dac-4fdb-b240-e9636219e2e7",
   "metadata": {},
   "outputs": [
    {
     "data": {
      "text/plain": [
       "True"
      ]
     },
     "execution_count": 3,
     "metadata": {},
     "output_type": "execute_result"
    }
   ],
   "source": [
    "contains_duplicatesII(nums = [1,0,1,1], k = 1)"
   ]
  },
  {
   "cell_type": "markdown",
   "id": "5e3ae94d-71f1-485e-8849-27b0953c15bf",
   "metadata": {},
   "source": [
    "##### Note:\n",
    "- **Time Limit Exceeds** for very large inputs"
   ]
  },
  {
   "cell_type": "code",
   "execution_count": null,
   "id": "c8359825-787f-44cf-a28e-8b2bc633db18",
   "metadata": {},
   "outputs": [],
   "source": [
    "# 27/02/2025"
   ]
  },
  {
   "cell_type": "markdown",
   "id": "9c66dd54-e09f-4338-9d06-2deb2662071b",
   "metadata": {},
   "source": [
    "#### SUMMARY RANGES\n",
    "- https://leetcode.com/problems/summary-ranges/description/?envType=problem-list-v2&envId=array"
   ]
  },
  {
   "cell_type": "markdown",
   "id": "45fe15f4-50fc-47d9-9973-555f1f2ca27b",
   "metadata": {},
   "source": [
    "##### QUESTION 15\n",
    "- You are given a sorted unique integer array nums.\n",
    "\n",
    "- A range [a,b] is the set of all integers from a to b (inclusive).\n",
    "\n",
    "- Return the smallest sorted list of ranges that cover all the numbers in the array exactly. That is, each element of nums is covered by exactly one of the ranges, and there is no integer x such that x is in one of the ranges but not in nums.\n",
    "\n",
    "- Each range [a,b] in the list should be output as:"
   ]
  },
  {
   "cell_type": "markdown",
   "id": "a5ca8cfa-5582-4f90-8385-329d55c769b2",
   "metadata": {},
   "source": [
    "##### Example 1:\n",
    "\n",
    "- Input: nums = [0,1,2,4,5,7]\n",
    "- Output: [\"0->2\",\"4->5\",\"7\"]\n",
    "- Explanation: The ranges are:\n",
    "[0,2] --> \"0->2\"\n",
    "[4,5] --> \"4->5\"\n",
    "[7,7] --> \"7\"\n",
    "##### Example 2:\n",
    "\n",
    "- Input: nums = [0,2,3,4,6,8,9]\n",
    "- Output: [\"0\",\"2->4\",\"6\",\"8->9\"]\n",
    "- Explanation: The ranges are:\n",
    "[0,0] --> \"0\"\n",
    "[2,4] --> \"2->4\"\n",
    "[6,6] --> \"6\"\n",
    "[8,9] --> \"8->9\"\n"
   ]
  },
  {
   "cell_type": "code",
   "execution_count": null,
   "id": "c38189ae-c896-41f6-bd2e-869b9ab1e04a",
   "metadata": {},
   "outputs": [],
   "source": [
    "# 27/02/2025"
   ]
  },
  {
   "cell_type": "markdown",
   "id": "08d1aba0-d2b7-4689-a1b4-0cc6d350ebdf",
   "metadata": {},
   "source": [
    "#### MISSING NUMBER\n",
    "- https://leetcode.com/problems/missing-number/description/?envType=problem-list-v2&envId=array"
   ]
  },
  {
   "cell_type": "markdown",
   "id": "71774ea4-c482-455b-8c21-1f318c10efca",
   "metadata": {},
   "source": [
    "##### QUESTION 16\n",
    "- Given an array nums containing n distinct numbers in the range [0, n], return the only number in the range that is missing from the array."
   ]
  },
  {
   "cell_type": "markdown",
   "id": "f91b6cf2-a6d1-47f2-8ccb-9f34bb93e9f2",
   "metadata": {},
   "source": [
    "##### Example 1\n",
    "- Input: nums = [3,0,1]\n",
    "\n",
    "- Output: 2\n",
    "\n",
    "- Explanation:\n",
    "\n",
    "n = 3 since there are 3 numbers, so all numbers are in the range [0,3]. 2 is the missing number in the range since it does not appear in nums.\n",
    "##### Example 2:\n",
    "\n",
    "- Input: nums = [0,1]\n",
    "\n",
    "- Output: 2\n",
    "\n",
    "- Explanation:\n",
    "\n",
    "n = 2 since there are 2 numbers, so all numbers are in the range [0,2]. 2 is the missing number in the range since it does not appear in nums."
   ]
  },
  {
   "cell_type": "code",
   "execution_count": 40,
   "id": "bfc55f13-f12c-4f81-aeb8-c3e53b7051b7",
   "metadata": {},
   "outputs": [],
   "source": [
    "'''\n",
    "step1 : find maximum element in the array to determine the range \n",
    "step2 : if no_element = max + 1 ; return max+1\n",
    "step3: if no_element = max ; iterate and return the missing number\n",
    "'''\n",
    "def missing_number(nums):\n",
    "    # finding the maximum number\n",
    "    n = len(nums)\n",
    "    highest_number = nums[0]\n",
    "\n",
    "    for i in range(1, n): # O(n)\n",
    "        if nums[i] > highest_number:\n",
    "            highest_number = nums[i]\n",
    "\n",
    "    # Return based on condition\n",
    "    if n == highest_number-1: # O(n) ie, total time complexcity : O(2n)\n",
    "        return highest_number + 1\n",
    "    else:\n",
    "        for i in range(n+1):\n",
    "            if i not in nums:\n",
    "                return i "
   ]
  },
  {
   "cell_type": "code",
   "execution_count": 42,
   "id": "df22475f-52a4-4bde-9930-6ae6598abce7",
   "metadata": {},
   "outputs": [
    {
     "data": {
      "text/plain": [
       "2"
      ]
     },
     "execution_count": 42,
     "metadata": {},
     "output_type": "execute_result"
    }
   ],
   "source": [
    "missing_number(nums = [3,0,1])"
   ]
  },
  {
   "cell_type": "markdown",
   "id": "021db631-8d64-47fa-8288-6fbe47303a9c",
   "metadata": {},
   "source": [
    "Note: \n",
    "- **Accpted**\n",
    "- Time complexcity has to been improved"
   ]
  },
  {
   "cell_type": "markdown",
   "id": "ec590ff7-be94-49a6-812d-10f1da9a363b",
   "metadata": {},
   "source": [
    "#### MOVE ZEROS\n",
    "- https://leetcode.com/problems/move-zeroes/description/?envType=problem-list-v2&envId=array"
   ]
  },
  {
   "cell_type": "markdown",
   "id": "46d3569b-4134-4f96-a3b0-a5dbc085919b",
   "metadata": {},
   "source": [
    "##### QUESTION 17\n",
    "- Given an integer array nums, move all 0's to the end of it while maintaining the relative order of the non-zero elements.\n",
    "\n",
    "- Note that you must do this in-place without making a copy of the array."
   ]
  },
  {
   "cell_type": "markdown",
   "id": "776d2102-99f4-42b3-98d7-05a6a4ff41b4",
   "metadata": {},
   "source": [
    "##### Example 1:\n",
    "\n",
    "- Input: nums = [0,1,0,3,12]\n",
    "- Output: [1,3,12,0,0]\n",
    "##### Example 2:\n",
    "\n",
    "- Input: nums = [0]\n",
    "- Output: [0]"
   ]
  },
  {
   "cell_type": "code",
   "execution_count": 60,
   "id": "3c27c0ed-3ff8-4e8d-9954-4168bca3ac33",
   "metadata": {},
   "outputs": [],
   "source": [
    "def move_zeros(nums):\n",
    "    k = -1\n",
    "    count_zero = 0\n",
    "\n",
    "    # shifting non zero numbers\n",
    "    for i in range(len(nums)):\n",
    "        if nums[i] != 0:\n",
    "            k += 1\n",
    "            nums[k] = nums[i]\n",
    "        else:\n",
    "            count_zero += 1\n",
    "            \n",
    "    # shifting moving zeros\n",
    "    j = len(nums) - 1\n",
    "    while count_zero > 0:\n",
    "        nums[j] = 0\n",
    "        j -= 1\n",
    "        count_zero -= 1\n",
    "    return nums"
   ]
  },
  {
   "cell_type": "code",
   "execution_count": 66,
   "id": "a790e831-f65a-421d-842a-b0d0fa641b0f",
   "metadata": {},
   "outputs": [
    {
     "data": {
      "text/plain": [
       "[1, 3, 12, 0, 0]"
      ]
     },
     "execution_count": 66,
     "metadata": {},
     "output_type": "execute_result"
    }
   ],
   "source": [
    "move_zeros(nums = [0,1,0,3,12])"
   ]
  },
  {
   "cell_type": "markdown",
   "id": "72f9d3d5-750b-4d4d-940d-252fcc650347",
   "metadata": {},
   "source": [
    "##### Noted:\n",
    "- **completed** "
   ]
  },
  {
   "cell_type": "markdown",
   "id": "2a4c505c-e2d4-413b-a74b-e8ed221fe9d4",
   "metadata": {},
   "source": [
    "#### RANGE SUM QUERY IMMUTABLE\n",
    "- https://leetcode.com/problems/range-sum-query-immutable/description/?envType=problem-list-v2&envId=array"
   ]
  },
  {
   "cell_type": "markdown",
   "id": "83fd19bd-f60c-4432-a884-50b7944b1f99",
   "metadata": {},
   "source": [
    "##### QUESTION 18\n",
    "- Given an integer array nums, handle multiple queries of the following type:\n",
    "\n",
    "- Calculate the sum of the elements of nums between indices left and right inclusive where left <= right.\n",
    "Implement the NumArray class:\n",
    "\n",
    "- NumArray(int[] nums) Initializes the object with the integer array nums.\n",
    "int sumRange(int left, int right) Returns the sum of the elements of nums between indices left and right inclusive (i.e. nums[left] + nums[left + 1] + ... + nums[right])."
   ]
  },
  {
   "cell_type": "markdown",
   "id": "fa45ef7f-a753-45a9-8322-a1a82a14db8a",
   "metadata": {},
   "source": [
    "##### Example 1:\n",
    "\n",
    "- Input\n",
    "[\"NumArray\", \"sumRange\", \"sumRange\", \"sumRange\"]\n",
    "[[[-2, 0, 3, -5, 2, -1]], [0, 2], [2, 5], [0, 5]]\n",
    "- Output\n",
    "[null, 1, -1, -3]\n",
    "\n",
    "- Explanation\n",
    "NumArray numArray = new NumArray([-2, 0, 3, -5, 2, -1]);\n",
    "numArray.sumRange(0, 2); // return (-2) + 0 + 3 = 1\n",
    "numArray.sumRange(2, 5); // return 3 + (-5) + 2 + (-1) = -1\n",
    "numArray.sumRange(0, 5); // return (-2) + 0 + 3 + (-5) + 2 + (-1) = -3"
   ]
  },
  {
   "cell_type": "code",
   "execution_count": 73,
   "id": "18a0e5c8-e0c2-4eda-a78a-1e9784de212d",
   "metadata": {},
   "outputs": [],
   "source": [
    "# Difficult problem to solve"
   ]
  },
  {
   "cell_type": "markdown",
   "id": "84c3611a-e116-40dd-81e3-41d2890d7f6b",
   "metadata": {},
   "source": [
    "#### INTERSECTION OF TWO ARRAYS\n",
    "- https://leetcode.com/problems/intersection-of-two-arrays/?envType=problem-list-v2&envId=array"
   ]
  },
  {
   "cell_type": "markdown",
   "id": "71f448a5-74c8-442a-9b14-fad7a6f974ae",
   "metadata": {},
   "source": [
    "##### QUESTION 19\n",
    "- Given two integer arrays nums1 and nums2, return an array of their intersection. Each element in the result must be unique and you may return the result in any order."
   ]
  },
  {
   "cell_type": "markdown",
   "id": "fd8b45e3-98da-455d-83c3-ab6294806f73",
   "metadata": {},
   "source": [
    "##### Example 1:\n",
    "\n",
    "- Input: nums1 = [1,2,2,1], nums2 = [2,2]\n",
    "- Output: [2]\n",
    "##### Example 2:\n",
    "\n",
    "- Input: nums1 = [4,9,5], nums2 = [9,4,9,8,4]\n",
    "- Output: [9,4]\n",
    "- Explanation: [4,9] is also accepted."
   ]
  },
  {
   "cell_type": "code",
   "execution_count": 94,
   "id": "ee98a0de-3853-49e8-978a-e3f522569533",
   "metadata": {},
   "outputs": [],
   "source": [
    "def intersection_arrays(nums1, nums2):\n",
    "    intersection = []\n",
    "    \n",
    "    for i in range(len(nums1)):\n",
    "        if nums1[i] in nums2 and nums1[i] not in intersection:\n",
    "            intersection.append(nums1[i])\n",
    "    return intersection"
   ]
  },
  {
   "cell_type": "code",
   "execution_count": 96,
   "id": "e842f965-2ce1-40ed-9430-9d960b56d58c",
   "metadata": {},
   "outputs": [
    {
     "data": {
      "text/plain": [
       "[2]"
      ]
     },
     "execution_count": 96,
     "metadata": {},
     "output_type": "execute_result"
    }
   ],
   "source": [
    "intersection_arrays(nums1 = [1,2,2,1], nums2 = [2,2])"
   ]
  },
  {
   "cell_type": "markdown",
   "id": "d96f5636-b89f-4db3-88b3-83a18444b89f",
   "metadata": {},
   "source": [
    "##### Note: \n",
    "- **time complexcity has to be improved** Accepted"
   ]
  },
  {
   "cell_type": "markdown",
   "id": "c9e77291-1ed7-41a0-b1b4-98d904c1fdc4",
   "metadata": {},
   "source": [
    "#### INTERSECTION OF TWO ARRAYS II\n",
    "- https://leetcode.com/problems/intersection-of-two-arrays-ii/description/?envType=problem-list-v2&envId=array"
   ]
  },
  {
   "cell_type": "markdown",
   "id": "53687593-b227-4c0f-9bdf-4634ab474111",
   "metadata": {},
   "source": [
    "##### QUESTION 20\n",
    "- Given two integer arrays nums1 and nums2, return an array of their intersection. Each element in the result must appear as many times as it shows in both arrays and you may return the result in any order."
   ]
  },
  {
   "cell_type": "markdown",
   "id": "942c8edd-077d-4f8d-80f1-f408aae29241",
   "metadata": {},
   "source": [
    "##### Example 1:\n",
    "\n",
    "- Input: nums1 = [1,2,2,1], nums2 = [2,2]\n",
    "- Output: [2,2]\n",
    "##### Example 2:\n",
    "\n",
    "- Input: nums1 = [4,9,5], nums2 = [9,4,9,8,4]\n",
    "- Output: [4,9]\n",
    "- Explanation: [9,4] is also accepted.\n"
   ]
  },
  {
   "cell_type": "code",
   "execution_count": 2,
   "id": "ffaaab1e-67f8-4a98-a9f0-950c77fb59ed",
   "metadata": {},
   "outputs": [],
   "source": [
    "def intersection_arrays(nums1, nums2):\n",
    "    # step1 : take the count of elements from any of the array\n",
    "    dictionary = dict()\n",
    "    output = []\n",
    "\n",
    "    for i in range(len(nums1)):\n",
    "        if nums1[i] in dictionary:\n",
    "            dictionary[nums1[i]] += 1\n",
    "        else:\n",
    "            dictionary[nums1[i]] = 1\n",
    "    # step2: make output using this created hashmap/dictionary \n",
    "    for num in nums2:\n",
    "        if num in dictionary and dictionary[num] > 0:\n",
    "            output.append(num)\n",
    "            dictionary[num] -= 1\n",
    "    return output"
   ]
  },
  {
   "cell_type": "code",
   "execution_count": 6,
   "id": "8381a591-ef62-4e7b-ab77-b9f187b83b5b",
   "metadata": {},
   "outputs": [
    {
     "data": {
      "text/plain": [
       "[2, 2]"
      ]
     },
     "execution_count": 6,
     "metadata": {},
     "output_type": "execute_result"
    }
   ],
   "source": [
    "intersection_arrays(nums1 = [1,2,2,1], nums2 = [2,2])"
   ]
  },
  {
   "cell_type": "markdown",
   "id": "d7928322-0fa0-4d3b-bbec-0e2e243a7828",
   "metadata": {},
   "source": [
    "##### Note : \n",
    "- Runtime 100% but space complexcity has to be improved"
   ]
  }
 ],
 "metadata": {
  "kernelspec": {
   "display_name": "Python [conda env:base] *",
   "language": "python",
   "name": "conda-base-py"
  },
  "language_info": {
   "codemirror_mode": {
    "name": "ipython",
    "version": 3
   },
   "file_extension": ".py",
   "mimetype": "text/x-python",
   "name": "python",
   "nbconvert_exporter": "python",
   "pygments_lexer": "ipython3",
   "version": "3.12.7"
  }
 },
 "nbformat": 4,
 "nbformat_minor": 5
}
