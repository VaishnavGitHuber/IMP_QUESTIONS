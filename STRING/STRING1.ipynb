{
 "cells": [
  {
   "cell_type": "markdown",
   "id": "3aef5297-40ed-4c95-a176-a104bbff4320",
   "metadata": {},
   "source": [
    "#### AUTHOR: VAISHNAV KRISHNA P\n",
    "##### STRING LEETCODE QUESTIONS"
   ]
  },
  {
   "cell_type": "markdown",
   "id": "81cbbb72-179d-464b-aa25-7b7a3dd93f43",
   "metadata": {},
   "source": [
    "#### CHECK ALL THE CHARECTORS HAVE EQUAL NUMBER OF OCCURENCES\n",
    "- https://leetcode.com/problems/check-if-all-characters-have-equal-number-of-occurrences/description/?envType=problem-list-v2&envId=string"
   ]
  },
  {
   "cell_type": "markdown",
   "id": "5c859e7a-6906-436d-b555-20c08d7f5a12",
   "metadata": {},
   "source": [
    "##### QUESTION 1\n",
    "- Given a string s, return true if s is a good string, or false otherwise.\n",
    "\n",
    "- A string s is good if all the characters that appear in s have the same number of occurrences (i.e., the same frequency).\n",
    "\n",
    " \n",
    "\n",
    "##### Example 1:\n",
    "\n",
    "- Input: s = \"abacbc\"\n",
    "- Output: true\n",
    "- Explanation: The characters that appear in s are 'a', 'b', and 'c'. All characters occur 2 times in s.\n",
    "##### Example 2:\n",
    "\n",
    "- Input: s = \"aaabb\"\n",
    "- Output: false\n",
    "- Explanation: The characters that appear in s are 'a' and 'b'.\n",
    "'a' occurs 3 times while 'b' occurs 2 times, which is not the same number of times."
   ]
  },
  {
   "cell_type": "code",
   "execution_count": 78,
   "id": "48edd960-0e25-4e47-aa4b-fceb72bb6890",
   "metadata": {},
   "outputs": [],
   "source": [
    "# function to get the no of unique charectors and num_to_freq dictionary\n",
    "def get_no_unique_and_freq(s):\n",
    "    n = len(s)\n",
    "    count = 0\n",
    "    num_to_freq = dict() \n",
    "    \n",
    "    for char in s:\n",
    "        if char in num_to_freq:\n",
    "            num_to_freq[char] += 1\n",
    "        else:\n",
    "            num_to_freq[char] = 1\n",
    "            count += 1\n",
    "    return n,count,num_to_freq # return length of string,the num_to_frquency dictionary, count"
   ]
  },
  {
   "cell_type": "code",
   "execution_count": 80,
   "id": "17d718ee-f607-4c6c-a800-1b67d23904d3",
   "metadata": {},
   "outputs": [],
   "source": [
    "# function: decide wheather a good string or a bad string \n",
    "def is_good_string(n, count,num_to_freq):\n",
    "    if n % count != 0:\n",
    "        return False\n",
    "    else:\n",
    "        for value in num_to_freq.values():\n",
    "            if value != (n / count):\n",
    "                return False\n",
    "        return True"
   ]
  },
  {
   "cell_type": "code",
   "execution_count": 86,
   "id": "7e277739-f20c-47b4-acb9-19a970b6ef5c",
   "metadata": {},
   "outputs": [
    {
     "data": {
      "text/plain": [
       "False"
      ]
     },
     "execution_count": 86,
     "metadata": {},
     "output_type": "execute_result"
    }
   ],
   "source": [
    "# main : function code \n",
    "s = 'ababa'\n",
    "n,count,dictionary = get_no_unique_and_freq(s)\n",
    "is_good_string(n,count,dictionary)"
   ]
  },
  {
   "cell_type": "markdown",
   "id": "3058d71e-0983-4fdd-84f7-4dd9512ea17e",
   "metadata": {},
   "source": [
    "##### Note:\n",
    "-  complexcity has to be imporved "
   ]
  },
  {
   "cell_type": "code",
   "execution_count": null,
   "id": "5f4afc35-1681-436a-9069-03d6ad16eeab",
   "metadata": {},
   "outputs": [],
   "source": []
  }
 ],
 "metadata": {
  "kernelspec": {
   "display_name": "Python [conda env:base] *",
   "language": "python",
   "name": "conda-base-py"
  },
  "language_info": {
   "codemirror_mode": {
    "name": "ipython",
    "version": 3
   },
   "file_extension": ".py",
   "mimetype": "text/x-python",
   "name": "python",
   "nbconvert_exporter": "python",
   "pygments_lexer": "ipython3",
   "version": "3.12.7"
  }
 },
 "nbformat": 4,
 "nbformat_minor": 5
}
