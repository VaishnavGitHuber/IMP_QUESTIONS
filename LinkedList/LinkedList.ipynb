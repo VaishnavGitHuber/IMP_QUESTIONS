{
 "cells": [
  {
   "cell_type": "code",
   "execution_count": 31,
   "id": "dcb298a8-6a65-472f-8bb6-e7e356966d8b",
   "metadata": {},
   "outputs": [],
   "source": [
    "# Node for the LinkedList \n",
    "class Node:\n",
    "    def __init__(self, data):\n",
    "        self.data = data \n",
    "        self.next = None "
   ]
  },
  {
   "cell_type": "code",
   "execution_count": 150,
   "id": "783a1ae2-2ca1-4c81-80e1-c71db85eb39b",
   "metadata": {},
   "outputs": [],
   "source": [
    "'''\n",
    "Linked List operations\n",
    "1. Add Node at first \n",
    "2. Add Node at end \n",
    "3. Add Node at middle\n",
    "4. Remove node at first\n",
    "5. Remove node at last \n",
    "6. Count no of Nodes \n",
    "7. Traversal of Nodes(display) \n",
    "'''\n",
    "class LinkedList:\n",
    "    # constructor for the linked list \n",
    "    def __init__(self):\n",
    "        self.head = None\n",
    "\n",
    "    # function for create a node \n",
    "    def create_node(self):\n",
    "        data = int(input(\"Enter the data: \"))\n",
    "        new_node = Node(data)\n",
    "        return new_node\n",
    "\n",
    "    def input_position(self):\n",
    "        position = int(input(\"Enter the position: \"))\n",
    "        return position\n",
    "        \n",
    "    # add a new node at the first\n",
    "    def add_node_first(self):\n",
    "        new_node = self.create_node()\n",
    "        if self.head:\n",
    "            new_node.next = self.head\n",
    "            self.head = new_node\n",
    "        else:\n",
    "            self.head = new_node \n",
    "\n",
    "    def add_node_last(self):\n",
    "        new_node = self.create_node()\n",
    "        if self.head:\n",
    "            temp = self.head\n",
    "\n",
    "            while temp.next:\n",
    "                temp = temp.next\n",
    "            temp.next = new_node\n",
    "        else:\n",
    "            self.head = new_node\n",
    "\n",
    "    def add_node_position(self):\n",
    "        pos = self.input_position()\n",
    "        if pos == 0:\n",
    "            self.add_node_first()\n",
    "            return \n",
    "            \n",
    "        if pos == self.count_nodes() - 1:\n",
    "            self.add_node_last()\n",
    "            return\n",
    "            \n",
    "        new_node = self.create_node()\n",
    "        if self.head:\n",
    "            temp = self.head \n",
    "            \n",
    "            for i in range(pos-1):\n",
    "                temp = temp.next \n",
    "            new_node.next = temp.next\n",
    "            temp.next = new_node\n",
    "        else:\n",
    "            self.head = new_node\n",
    "\n",
    "    def remove_node_pos(self):\n",
    "        pos = self.input_position()\n",
    "        if pos == 0:\n",
    "            self.remove_first()\n",
    "            return \n",
    "            \n",
    "        if pos == self.count_nodes() - 1:\n",
    "            self.remove_last()\n",
    "            return\n",
    "\n",
    "        if self.head:\n",
    "            temp = self.head \n",
    "            \n",
    "            for i in range(pos-1):\n",
    "                temp = temp.next \n",
    "            temp.next = te\n",
    "        else:\n",
    "            print(\"operation error: No nodes to delete\")\n",
    "        \n",
    "    def remove_first(self):\n",
    "        if self.head:\n",
    "            self.head = self.head.next\n",
    "        else:\n",
    "            print(\"Operation Error: No elements to delete\")\n",
    "\n",
    "    def remove_last(self):\n",
    "        if self.head.next:\n",
    "            temp = self.head\n",
    "\n",
    "            while temp.next.next:\n",
    "                temp = temp.next \n",
    "            temp.next = None\n",
    "        elif self.head:\n",
    "            self.head =  None\n",
    "\n",
    "    def count_nodes(self):\n",
    "        count = 0\n",
    "        temp = self.head\n",
    "\n",
    "        while temp:\n",
    "            count += 1\n",
    "            temp = temp.next \n",
    "        return count\n",
    "            \n",
    "    def display(self):\n",
    "        temp = self.head \n",
    "\n",
    "        print(\"Display Linked List\")\n",
    "        while temp:\n",
    "            print(temp.data , \"->\", end=\"\")\n",
    "            temp = temp.next\n",
    "        print(\"None\")"
   ]
  },
  {
   "cell_type": "code",
   "execution_count": 158,
   "id": "86d9adf7-2910-4f6f-a082-e706a2c2e644",
   "metadata": {},
   "outputs": [
    {
     "name": "stdin",
     "output_type": "stream",
     "text": [
      "Enter the data:  1\n",
      "Enter the position:  1\n",
      "Enter the data:  4\n"
     ]
    },
    {
     "name": "stdout",
     "output_type": "stream",
     "text": [
      "Display Linked List\n",
      "1 ->4 ->None\n"
     ]
    }
   ],
   "source": [
    "li = LinkedList()\n",
    "li.add_node_last()\n",
    "li.add_node_position()\n",
    "li.display()"
   ]
  },
  {
   "cell_type": "code",
   "execution_count": 118,
   "id": "31291553-015d-4836-8200-084ccdd725d3",
   "metadata": {},
   "outputs": [
    {
     "data": {
      "text/plain": [
       "0"
      ]
     },
     "execution_count": 118,
     "metadata": {},
     "output_type": "execute_result"
    }
   ],
   "source": [
    "li.count"
   ]
  },
  {
   "cell_type": "code",
   "execution_count": null,
   "id": "b91ca424-51fe-4648-bf8b-08a177f18c54",
   "metadata": {},
   "outputs": [],
   "source": []
  }
 ],
 "metadata": {
  "kernelspec": {
   "display_name": "Python [conda env:base] *",
   "language": "python",
   "name": "conda-base-py"
  },
  "language_info": {
   "codemirror_mode": {
    "name": "ipython",
    "version": 3
   },
   "file_extension": ".py",
   "mimetype": "text/x-python",
   "name": "python",
   "nbconvert_exporter": "python",
   "pygments_lexer": "ipython3",
   "version": "3.12.7"
  }
 },
 "nbformat": 4,
 "nbformat_minor": 5
}
